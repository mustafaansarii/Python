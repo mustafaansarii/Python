{
 "cells": [
  {
   "cell_type": "markdown",
   "id": "8126fcad",
   "metadata": {},
   "source": [
    "# Method Overloading concept of polymorphism\n",
    "\n",
    "* comes uder oops concept\n",
    "* it is worked in the same method names and different arguments\n",
    "* argument differrent will be based on a number of argument abd types of arguments.\n"
   ]
  },
  {
   "cell_type": "code",
   "execution_count": 9,
   "id": "4f4deea4",
   "metadata": {},
   "outputs": [
    {
     "name": "stdout",
     "output_type": "stream",
     "text": [
      "nothing found\n",
      "Area of square:  100\n",
      "Area of rectangle:  20\n"
     ]
    }
   ],
   "source": [
    "class Overload:\n",
    "    def find_area(self,a=None,b=None):\n",
    "        if a!=None and b!=None:\n",
    "            print(\"Area of rectangle: \",(a*b))\n",
    "        elif a!=None:\n",
    "            print(\"Area of square: \",a**2)\n",
    "        else:\n",
    "            print(\"nothing found\")\n",
    "            \n",
    "object=Overload()\n",
    "object.find_area()\n",
    "object.find_area(10)\n",
    "object.find_area(10,2)\n"
   ]
  },
  {
   "cell_type": "code",
   "execution_count": 43,
   "id": "a073ffc2",
   "metadata": {},
   "outputs": [
    {
     "name": "stdout",
     "output_type": "stream",
     "text": [
      "this is a cuntructor\n",
      "1 2 3 4 5 6 7 8 9 \n",
      "the sum is 3\n"
     ]
    }
   ],
   "source": [
    "class calculator:\n",
    "    def __init__(self):\n",
    "        print(\"this is a cuntructor\")\n",
    "        for i in range(1, 10):\n",
    "            print(i, end=\" \")\n",
    "\n",
    "    def calculate(self, a, b):\n",
    "        print(f\"\\nthe sum is {a +b}\")\n",
    "        \n",
    "obj = calculator()\n",
    "obj.calculate(1, 2)\n"
   ]
  },
  {
   "cell_type": "code",
   "execution_count": null,
   "id": "a54a9c8d",
   "metadata": {},
   "outputs": [],
   "source": []
  }
 ],
 "metadata": {
  "kernelspec": {
   "display_name": "Python 3 (ipykernel)",
   "language": "python",
   "name": "python3"
  },
  "language_info": {
   "codemirror_mode": {
    "name": "ipython",
    "version": 3
   },
   "file_extension": ".py",
   "mimetype": "text/x-python",
   "name": "python",
   "nbconvert_exporter": "python",
   "pygments_lexer": "ipython3",
   "version": "3.9.12"
  }
 },
 "nbformat": 4,
 "nbformat_minor": 5
}
