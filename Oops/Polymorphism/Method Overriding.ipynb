{
 "cells": [
  {
   "cell_type": "markdown",
   "id": "7ec202a0",
   "metadata": {},
   "source": [
    "# Method Overriding\n",
    "\n",
    "* Method Overriding is the method having the same name with the same arguments.\n",
    "* it is implemente with inheritence also.\n",
    "* mostly used for memory reduce"
   ]
  },
  {
   "cell_type": "code",
   "execution_count": 12,
   "id": "03dca8ce",
   "metadata": {},
   "outputs": [
    {
     "name": "stdout",
     "output_type": "stream",
     "text": [
      "i'm i B class\n"
     ]
    }
   ],
   "source": [
    "class Override:\n",
    "    def showdata(self):\n",
    "        print(\"this is a class\")\n",
    "        \n",
    "class overriding(Override):\n",
    "    def showdata(self):\n",
    "        print(\"i'm i B class\")\n",
    "        \n",
    "object=overriding()\n",
    "object.showdata()"
   ]
  }
 ],
 "metadata": {
  "kernelspec": {
   "display_name": "Python 3 (ipykernel)",
   "language": "python",
   "name": "python3"
  },
  "language_info": {
   "codemirror_mode": {
    "name": "ipython",
    "version": 3
   },
   "file_extension": ".py",
   "mimetype": "text/x-python",
   "name": "python",
   "nbconvert_exporter": "python",
   "pygments_lexer": "ipython3",
   "version": "3.9.12"
  }
 },
 "nbformat": 4,
 "nbformat_minor": 5
}
