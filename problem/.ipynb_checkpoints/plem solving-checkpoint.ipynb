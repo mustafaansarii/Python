{
 "cells": [
  {
   "cell_type": "code",
   "execution_count": 1,
   "metadata": {},
   "outputs": [
    {
     "name": "stdout",
     "output_type": "stream",
     "text": [
      "[5, 2, 3, 4, 1]\n",
      "[1, 4, 3, 2, 5]\n",
      "Length of the list: 5\n",
      "Maximum of 10 and 20 is: 20\n",
      "Minimum of 10 and 20 is: 10\n"
     ]
    }
   ],
   "source": [
    "# Python List Exercises\n",
    "# Python program to interchange first and last elements in a list\n",
    "def interchange_first_last(lst):\n",
    "    if len(lst) >= 2:\n",
    "        lst[0], lst[-1] = lst[-1], lst[0]\n",
    "    return lst\n",
    "\n",
    "# Example usage:\n",
    "my_list = [1, 2, 3, 4, 5]\n",
    "interchanged_list = interchange_first_last(my_list)\n",
    "print(interchanged_list)\n",
    "\n",
    "\n",
    "# Python program to swap two elements in a list\n",
    "\n",
    "def swap_elements(lst, index1, index2):\n",
    "    if 0 <= index1 < len(lst) and 0 <= index2 < len(lst):\n",
    "        lst[index1], lst[index2] = lst[index2], lst[index1]\n",
    "    return lst\n",
    "\n",
    "# Example usage:\n",
    "my_list = [1, 2, 3, 4, 5]\n",
    "swap_elements_list = swap_elements(my_list, 1, 3)\n",
    "print(swap_elements_list)\n",
    "\n",
    "# Python | Ways to find length of list\n",
    "# Using len() function\n",
    "my_list = [1, 2, 3, 4, 5]\n",
    "length = len(my_list)\n",
    "print(\"Length of the list:\", length)\n",
    "\n",
    "# Maximum of two numbers in Python\n",
    "num1 = 10\n",
    "num2 = 20\n",
    "maximum = max(num1, num2)\n",
    "print(\"Maximum of\", num1, \"and\", num2, \"is:\", maximum)\n",
    "\n",
    "# Minimum of two numbers in Python\n",
    "num1 = 10\n",
    "num2 = 20\n",
    "minimum = min(num1, num2)\n",
    "print(\"Minimum of\", num1, \"and\", num2, \"is:\", minimum)\n",
    "\n",
    " \n",
    "\n"
   ]
  },
  {
   "cell_type": "markdown",
   "metadata": {},
   "source": []
  },
  {
   "cell_type": "markdown",
   "metadata": {},
   "source": []
  },
  {
   "cell_type": "code",
   "execution_count": 13,
   "metadata": {},
   "outputs": [
    {
     "name": "stdout",
     "output_type": "stream",
     "text": [
      "Symmetrical\n",
      "tebahpla\n",
      "Hello, World!\n",
      "Hello World!\n",
      "13\n",
      "13\n",
      "13\n",
      "13\n",
      "Python\n",
      "is\n",
      "powerful\n",
      "language\n"
     ]
    }
   ],
   "source": [
    "# Python String Exercises\n",
    "# Python program to check whether the string is Symmetrical or Palindrome\n",
    "a=input(\"inter str= \")\n",
    "b=(a[::-1])\n",
    "if a==b:\n",
    "    print('Palindrome')\n",
    "else:\n",
    "     print('Symmetrical')\n",
    "\n",
    "# Reverse words in a given String in Python\n",
    "a=\"\"\"alphabet\"\"\"\n",
    "print(a[::-1])\n",
    "# Ways to remove i’th character from string in Python\n",
    "a = \"Hello, World!\"\n",
    "b = a[:6] + a[7:]\n",
    "print(a)\n",
    "\n",
    "a = \"Hello, World!\"\n",
    "modified_string = a.replace(\",\", \"\")\n",
    "print(modified_string)\n",
    "\n",
    "# Find length of a string in python (4 ways)\n",
    "v= \"Hello, World!\"\n",
    "length = len(v)\n",
    "print(length)\n",
    "\n",
    "a = \"Hello, World!\"\n",
    "count = 0\n",
    "for char in a:\n",
    "    count += 1\n",
    "print(count)\n",
    "\n",
    "a= \"Hello, World!\"\n",
    "count = 0\n",
    "for i in range(len(a)):\n",
    "    count += 1\n",
    "print(count)\n",
    "\n",
    "a = \"Hello, World!\"\n",
    "count = len([char for char in a])\n",
    "print(count)\n",
    "\n",
    "\n",
    "\n",
    "# Python program to print even length words in a string\n",
    "\n",
    "def a(b):\n",
    "    words = input_string.split()\n",
    "    \n",
    "    even = [word for word in words if len(word) % 2 == 0]\n",
    "    \n",
    "    for word in even:\n",
    "        print(word)\n",
    "\n",
    "# Example usage:\n",
    "input_string = \"Python is a powerful programming language\"\n",
    "a(b)\n",
    "\n",
    "\n",
    "\n"
   ]
  },
  {
   "cell_type": "code",
   "execution_count": 32,
   "metadata": {},
   "outputs": [
    {
     "name": "stdout",
     "output_type": "stream",
     "text": [
      "15\n",
      "<class 'tuple'>\n",
      "57\n",
      "((4, 2, 8, 1, 6, 9, 3, 7, 5), (4, 2, 8, 1, 6, 9, 3, 7, 5))\n"
     ]
    }
   ],
   "source": [
    "# Python Tuple Exercises\n",
    "# Python program to Find the size of a Tuple\n",
    "a=(1,2,3,4,5,6,7,8,5,2,1,3,1,4,5)\n",
    "print(len(a))\n",
    "print(type(a))\n",
    "\n",
    "\n",
    "\n",
    "# Python – Sum of tuple elements\n",
    "print(sum(a))\n",
    "# Python – Row-wise element Addition in Tuple Matrix\n",
    "a= (4, 2, 8, 1, 6, 9, 3, 7, 5), (4, 2, 8, 1, 6, 9, 3, 7, 5)\n",
    "print(a)\n",
    "# Create a list of tuples from given list having number and its cube in each tuple\n",
    "\n",
    "\n",
    "\n"
   ]
  },
  {
   "cell_type": "code",
   "execution_count": 44,
   "metadata": {},
   "outputs": [
    {
     "name": "stdout",
     "output_type": "stream",
     "text": [
      "The original tuple is : (5, 20, 3, 7, 6, 8)\n"
     ]
    },
    {
     "ename": "TypeError",
     "evalue": "'list' object is not callable",
     "output_type": "error",
     "traceback": [
      "\u001b[0;31m---------------------------------------------------------------------------\u001b[0m",
      "\u001b[0;31mTypeError\u001b[0m                                 Traceback (most recent call last)",
      "Cell \u001b[0;32mIn[44], line 5\u001b[0m\n\u001b[1;32m      3\u001b[0m K \u001b[38;5;241m=\u001b[39m \u001b[38;5;241m2\u001b[39m\n\u001b[1;32m      4\u001b[0m test_tup \u001b[38;5;241m=\u001b[39m \u001b[38;5;28mlist\u001b[39m(test_tup)\n\u001b[0;32m----> 5\u001b[0m temp \u001b[38;5;241m=\u001b[39m \u001b[38;5;28;43msorted\u001b[39;49m\u001b[43m(\u001b[49m\u001b[43mtest_tup\u001b[49m\u001b[43m)\u001b[49m\n\u001b[1;32m      6\u001b[0m res \u001b[38;5;241m=\u001b[39m \u001b[38;5;28mtuple\u001b[39m(temp[:K] \u001b[38;5;241m+\u001b[39m temp[\u001b[38;5;241m-\u001b[39mK:])\n\u001b[1;32m      7\u001b[0m \u001b[38;5;28mprint\u001b[39m(\u001b[38;5;124m\"\u001b[39m\u001b[38;5;124mThe extracted values : \u001b[39m\u001b[38;5;124m\"\u001b[39m \u001b[38;5;241m+\u001b[39m \u001b[38;5;28mstr\u001b[39m(res)) \n",
      "\u001b[0;31mTypeError\u001b[0m: 'list' object is not callable"
     ]
    }
   ],
   "source": []
  },
  {
   "cell_type": "code",
   "execution_count": null,
   "metadata": {},
   "outputs": [],
   "source": [
    "\n",
    "Python Dictionary Exercises\n",
    "Python | Sort Python Dictionaries by Key or Value\n",
    "Handling missing keys in Python dictionaries\n",
    "Python dictionary with keys having multiple inputs\n",
    "Python program to find the sum of all items in a dictionary\n",
    "Python program to find the size of a Dictionary"
   ]
  },
  {
   "cell_type": "code",
   "execution_count": null,
   "metadata": {},
   "outputs": [],
   "source": [
    "\n",
    "\n",
    "\n",
    "\n",
    "# Python Lambda Exercises\n",
    "# Lambda with if but without else in Python\n",
    "# Python | Sorting string using order defined by another string\n",
    "# Python | Find fibonacci series upto n using lambda\n",
    "# Python program to count Even and Odd numbers in a List\n",
    "# Python | Find the Number Occurring Odd Number of Times using Lambda expression and reduce function\n",
    "\n",
    "\n"
   ]
  },
  {
   "cell_type": "code",
   "execution_count": null,
   "metadata": {},
   "outputs": [],
   "source": [
    "# Python Functions Exercises\n",
    "# How to get list of parameters name from a function in Python?\n",
    "# How to Print Multiple Arguments in Python?\n",
    "# Python program to find the power of a number using recursion\n",
    "# Sorting objects of user defined class in Python\n",
    "# Functions that accept variable length key value pair as arguments\n"
   ]
  },
  {
   "cell_type": "code",
   "execution_count": null,
   "metadata": {},
   "outputs": [],
   "source": [
    "\n",
    "# Python Sorting Exercises\n",
    "# Python Program for Bubble Sort\n",
    "# Python Program for QuickSort\n",
    "# Python Program for Insertion Sort\n",
    "# Python Program for Selection Sort\n",
    "# Python Program for Heap Sort"
   ]
  },
  {
   "cell_type": "code",
   "execution_count": null,
   "metadata": {},
   "outputs": [],
   "source": [
    "\n",
    "# Python Set Exercises\n",
    "# Find the size of a Set in Python\n",
    "# Iterate over a set in Python\n",
    "# Python – Maximum and Minimum in a Set\n",
    "# Python – Remove items from Set\n",
    "# Python – Check if two lists have atleast one element common\n"
   ]
  },
  {
   "cell_type": "code",
   "execution_count": null,
   "metadata": {},
   "outputs": [],
   "source": [
    "# NumPy Exercises\n",
    "# How to create an empty and a full NumPy array?\n",
    "# Create a Numpy array filled with all zeros\n",
    "# Create a Numpy array filled with all ones\n",
    "# Replace NumPy array elements that doesn’t satisfy the given condition\n",
    "# Get the maximum value from given matrix"
   ]
  },
  {
   "cell_type": "code",
   "execution_count": null,
   "metadata": {},
   "outputs": [],
   "source": [
    "# Python Matrix Exercises\n",
    "# Python – Assigning Subsequent Rows to Matrix first row elements\n",
    "# Adding and Subtracting Matrices in Python\n",
    "# Python – Group similar elements into Matrix\n",
    "# Python – Row-wise element Addition in Tuple Matrix\n",
    "# Create an n x n square matrix, where all the sub-matrix have the sum of opposite corner elements as even\n"
   ]
  },
  {
   "cell_type": "code",
   "execution_count": null,
   "metadata": {},
   "outputs": [],
   "source": [
    "# Python DSA Exercises\n",
    "# Python program to reverse a stack\n",
    "# Multithreaded Priority Queue in Python\n",
    "# Check whether the given string is Palindrome using Stack\n",
    "# Program to Calculate the Edge Cover of a Graph\n",
    "# Python Program for N Queen Problem\n",
    "\n",
    "# Python File Handling Exercises\n",
    "# Read content from one file and write it into another file\n",
    "# Write a dictionary to a file in Python\n",
    "# How to check file size in Python?\n",
    "# Find the most repeated word in a text file\n",
    "# How to read specific lines from a File in Python?"
   ]
  },
  {
   "cell_type": "code",
   "execution_count": null,
   "metadata": {},
   "outputs": [],
   "source": []
  },
  {
   "cell_type": "code",
   "execution_count": null,
   "metadata": {},
   "outputs": [],
   "source": [
    "# Python DateTime Exercises\n",
    "# Python program to get Current Time\n",
    "# Get Yesterday’s date using Python\n",
    "# Python program to print current year, month and day\n",
    "# Python – Convert day number to date in particular year\n",
    "# Get Current Time in different Timezone using Python\n",
    "\n"
   ]
  },
  {
   "cell_type": "markdown",
   "metadata": {},
   "source": [
    "<!-- Pandas Exercises\n",
    "Make a Pandas DataFrame with two-dimensional list | Python\n",
    "How to iterate over rows in Pandas Dataframe\n",
    "Create a pandas column using for loop\n",
    "Create a Pandas Series from array\n",
    "Pandas | Basic of Time Series Manipulation -->\n"
   ]
  },
  {
   "cell_type": "markdown",
   "metadata": {},
   "source": [
    "<!-- Python Searching Exercises\n",
    "Python Program for Linear Search\n",
    "Python Program for Binary Search (Recursive and Iterative)\n",
    "Python Program for Anagram Substring Search (Or Search for all permutations)\n",
    "\n",
    " -->\n"
   ]
  },
  {
   "cell_type": "code",
   "execution_count": null,
   "metadata": {},
   "outputs": [],
   "source": [
    "\n",
    "\n",
    "# Python Web Scraping Exercises\n",
    "# How to extract youtube data in Python?\n",
    "# How to Download All Images from a Web Page in Python?\n",
    "# Test the given page is found or not on the server Using Python\n",
    "# How to Extract Wikipedia Data in Python?\n",
    "# How to extract paragraph from a website and save it as a text file?\n",
    "# >> More Programs on Web Scraping\n",
    "\n",
    "# Python Selenium Exercises\n",
    "# Download File in Selenium Using Python\n",
    "# Bulk Posting on Facebook Pages using Selenium\n",
    "# Google Maps Selenium automation using Python\n",
    "# Count total number of Links In Webpage Using Selenium In Python\n",
    "# Extract Data From JustDial using Selenium\n",
    "# >> More Programs on Python Selenium\n",
    "\n",
    "# Python Projects\n",
    "# Number guessing game in Python\n",
    "# 2048 Game in Python\n",
    "# Get Live Weather Desktop Notifications Using Python\n",
    "# 8-bit game using pygame\n",
    "# Tic Tac Toe GUI In Python using PyGame"
   ]
  },
  {
   "cell_type": "code",
   "execution_count": null,
   "metadata": {},
   "outputs": [],
   "source": [
    "# Python CSV Exercises\n",
    "# Update column value of CSV in Python\n",
    "# How to add a header to a CSV file in Python?\n",
    "# Get column names from CSV using Python\n",
    "# Writing data from a Python List to CSV row-wise\n",
    "# Convert multiple JSON files to CSV Python\n",
    "# >> More Programs on Python CSV\n",
    "\n",
    "# Python JSON Exercises\n",
    "# Convert class object to JSON in Python\n",
    "# Convert JSON data Into a Custom Python Object\n",
    "# Flattening JSON objects in Python\n",
    "# Convert CSV to JSON using Python\n",
    "# >> More Programs on Python JSON\n",
    "\n",
    "# Python OS Module Exercises\n",
    "# How to get file creation and modification date or time in Python?\n",
    "# Menu Driven Python program for opening the required software Application\n",
    "# Python Script to change name of a file to its timestamp\n",
    "# Kill a Process by name using Python\n",
    "# Finding the largest file in a directory using Python\n",
    "# >> More Programs on OS Module\n",
    "\n",
    "# Python Tkinter Exercises\n",
    "# Python | Create a GUI Marksheet using Tkinter\n",
    "# Python | ToDo GUI Application using Tkinter\n",
    "# Python | GUI Calendar using Tkinter\n",
    "# File Explorer in Python using Tkinter\n",
    "# Visiting Card Scanner GUI Application using Python\n",
    "# >> More Programs on Python Tkinter\n"
   ]
  },
  {
   "cell_type": "code",
   "execution_count": null,
   "metadata": {},
   "outputs": [],
   "source": []
  },
  {
   "cell_type": "code",
   "execution_count": null,
   "metadata": {},
   "outputs": [],
   "source": [
    "# Python Pattern printing Exercises\n",
    "# Program to print half Diamond star pattern\n",
    "# Programs for printing pyramid patterns in Python\n",
    "# Program to print the diamond shape\n",
    "# Python | Print an Inverted Star Pattern\n",
    "# Python Program to print digit pattern\n",
    "# >> More Programs on Python Pattern Printing\n",
    "\n",
    "\n",
    "# Python OOPS Exercises\n",
    "# Python program to build flashcard using class in Python\n",
    "# Shuffle a deck of card with OOPS in Python\n",
    "# How to create an empty class in Python?\n",
    "# Student management system in Python\n",
    "# >> More Programs on Python OOPS\n",
    "\n",
    "# Python Regex Exercises\n",
    "# Python program to find the type of IP Address using Regex\n",
    "# Python program to find Indices of Overlapping Substrings\n",
    "# Python program to extract Strings between HTML Tags\n",
    "# Python – Check if String Contain Only Defined Characters using Regex\n",
    "# Python program to find files having a particular extension using RegEx\n",
    "# >> More Programs on Python Regex\n",
    "\n",
    "# Python LinkedList Exercises\n",
    "# Python program to Search an Element in a Circular Linked List\n",
    "# Pretty print Linked List in Python\n",
    "# Python | Stack using Doubly Linked List\n",
    "# Python | Queue using Doubly Linked List\n",
    "# Python program to find middle of a linked list using one traversal\n",
    "# >> More Programs on Linked Lists\n"
   ]
  },
  {
   "cell_type": "markdown",
   "metadata": {},
   "source": [
    "# Pattern Problems"
   ]
  },
  {
   "cell_type": "markdown",
   "metadata": {},
   "source": [
    "Pattern 1: Simple Number Triangle Pattern"
   ]
  },
  {
   "cell_type": "code",
   "execution_count": null,
   "metadata": {},
   "outputs": [],
   "source": [
    "n=int(input)\n",
    "for i in range(n,0,-1):\n",
    "    print(f\"*)"
   ]
  }
 ],
 "metadata": {
  "kernelspec": {
   "display_name": "Python 3 (ipykernel)",
   "language": "python",
   "name": "python3"
  },
  "language_info": {
   "codemirror_mode": {
    "name": "ipython",
    "version": 3
   },
   "file_extension": ".py",
   "mimetype": "text/x-python",
   "name": "python",
   "nbconvert_exporter": "python",
   "pygments_lexer": "ipython3",
   "version": "3.9.12"
  }
 },
 "nbformat": 4,
 "nbformat_minor": 2
}
