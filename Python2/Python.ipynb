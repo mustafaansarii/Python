{
 "cells": [
  {
   "cell_type": "markdown",
   "id": "ac56319d",
   "metadata": {},
   "source": [
    "# Python\n",
    "* python is an interpreted, object-oriented, high-level prohramming language with dynamic sematics."
   ]
  },
  {
   "cell_type": "markdown",
   "id": "36d32986",
   "metadata": {},
   "source": [
    "* Dynamic type- Data type will be finalize at excution time"
   ]
  },
  {
   "cell_type": "markdown",
   "id": "cdf69603",
   "metadata": {},
   "source": [
    "# Features of Python\n",
    "* Easy to Learn\n",
    "* Open source\n",
    "* High level\n",
    "* Cross Platform\n",
    "* Multi-paradigm Language\n",
    "* Extendable Language\n",
    "* Broad Library\n",
    "* GUI support"
   ]
  },
  {
   "cell_type": "markdown",
   "id": "3f4e7de9",
   "metadata": {},
   "source": [
    "# Application of Python\n",
    "* Web App(django)\n",
    "* desktop app (tkinter)\n",
    "* Game Development\n",
    "* Machine Learning\n",
    "* AI"
   ]
  }
 ],
 "metadata": {
  "kernelspec": {
   "display_name": "Python 3 (ipykernel)",
   "language": "python",
   "name": "python3"
  },
  "language_info": {
   "codemirror_mode": {
    "name": "ipython",
    "version": 3
   },
   "file_extension": ".py",
   "mimetype": "text/x-python",
   "name": "python",
   "nbconvert_exporter": "python",
   "pygments_lexer": "ipython3",
   "version": "3.9.12"
  }
 },
 "nbformat": 4,
 "nbformat_minor": 5
}
