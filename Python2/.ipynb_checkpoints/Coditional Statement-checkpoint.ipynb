{
 "cells": [
  {
   "cell_type": "markdown",
   "id": "27f984d8",
   "metadata": {},
   "source": [
    "# Bitwise"
   ]
  },
  {
   "cell_type": "code",
   "execution_count": 45,
   "id": "8392dba5",
   "metadata": {},
   "outputs": [
    {
     "name": "stdout",
     "output_type": "stream",
     "text": [
      "0b1010\n",
      "0b1001\n"
     ]
    }
   ],
   "source": [
    "x=10\n",
    "y=9\n",
    "print(bin(x))\n",
    "print(bin(y))"
   ]
  },
  {
   "cell_type": "code",
   "execution_count": 46,
   "id": "d2b1e857",
   "metadata": {
    "scrolled": true
   },
   "outputs": [
    {
     "name": "stdout",
     "output_type": "stream",
     "text": [
      "8\n"
     ]
    }
   ],
   "source": [
    "print(y&x)"
   ]
  },
  {
   "cell_type": "code",
   "execution_count": 47,
   "id": "206ed6e9",
   "metadata": {},
   "outputs": [
    {
     "name": "stdout",
     "output_type": "stream",
     "text": [
      "11\n"
     ]
    }
   ],
   "source": [
    " print(x|y)"
   ]
  },
  {
   "cell_type": "code",
   "execution_count": 48,
   "id": "bfb51e41",
   "metadata": {},
   "outputs": [
    {
     "name": "stdout",
     "output_type": "stream",
     "text": [
      "0b11 3\n"
     ]
    }
   ],
   "source": [
    " print(bin(x^y),x^y)"
   ]
  },
  {
   "cell_type": "code",
   "execution_count": 49,
   "id": "14b091f9",
   "metadata": {},
   "outputs": [
    {
     "name": "stdout",
     "output_type": "stream",
     "text": [
      "0\n"
     ]
    }
   ],
   "source": [
    "a=1\n",
    "b=2\n",
    "print(0 & 1)"
   ]
  },
  {
   "cell_type": "code",
   "execution_count": 69,
   "id": "e4ded988",
   "metadata": {},
   "outputs": [
    {
     "name": "stdout",
     "output_type": "stream",
     "text": [
      "0b11\n",
      "0b10\n",
      "0b11 3\n"
     ]
    }
   ],
   "source": [
    "print(bin(3))\n",
    "print(bin(2))\n",
    "print(bin(1|2),1|2)"
   ]
  },
  {
   "cell_type": "code",
   "execution_count": 71,
   "id": "b3fd347b",
   "metadata": {},
   "outputs": [
    {
     "name": "stdout",
     "output_type": "stream",
     "text": [
      "2\n"
     ]
    }
   ],
   "source": [
    "print(3 & 2)"
   ]
  },
  {
   "cell_type": "code",
   "execution_count": null,
   "id": "f534bc3e",
   "metadata": {},
   "outputs": [],
   "source": []
  },
  {
   "cell_type": "code",
   "execution_count": null,
   "id": "baf79fb9",
   "metadata": {},
   "outputs": [],
   "source": []
  },
  {
   "cell_type": "code",
   "execution_count": 65,
   "id": "f52d55b6",
   "metadata": {},
   "outputs": [
    {
     "data": {
      "text/plain": [
       "'0b11'"
      ]
     },
     "execution_count": 65,
     "metadata": {},
     "output_type": "execute_result"
    }
   ],
   "source": [
    "bin(3)"
   ]
  },
  {
   "cell_type": "code",
   "execution_count": 66,
   "id": "deb34a58",
   "metadata": {},
   "outputs": [
    {
     "name": "stdout",
     "output_type": "stream",
     "text": [
      "True XOR True = False\n",
      "True XOR False = True\n",
      "False XOR True = True\n",
      "False XOR False = False\n"
     ]
    }
   ],
   "source": [
    "# Initializing the boolean values\n",
    "a = True\n",
    "b = False\n",
    "\n",
    "# Finding XOR of boolean values using ^ operator\n",
    "p = a ^ a\n",
    "q = a ^ b\n",
    "r = b ^ a\n",
    "s = b ^ b\n",
    "\n",
    "# Printing the XOR value of every boolean combination\n",
    "print(a, \"XOR\", a, \"=\", p)\n",
    "print(a, \"XOR\", b, \"=\", q)\n",
    "print(b, \"XOR\", a, \"=\", r)\n",
    "print(b, \"XOR\", b, \"=\", s)\n"
   ]
  },
  {
   "cell_type": "code",
   "execution_count": 51,
   "id": "7f1e6879",
   "metadata": {},
   "outputs": [
    {
     "name": "stdout",
     "output_type": "stream",
     "text": [
      "a & b = 0\n",
      "a | b = 14\n",
      "~a = -11\n",
      "a ^ b = 14\n"
     ]
    }
   ],
   "source": [
    "# Python program to show\n",
    "# bitwise operators\n",
    "\n",
    "a = 10\n",
    "b = 4\n",
    "\n",
    "# Print bitwise AND operation\n",
    "print(\"a & b =\", a & b)\n",
    "\n",
    "# Print bitwise OR operation\n",
    "print(\"a | b =\", a | b)\n",
    "\n",
    "# Print bitwise NOT operation\n",
    "print(\"~a =\", ~a)\n",
    "\n",
    "# print bitwise XOR operation\n",
    "print(\"a ^ b =\", a ^ b)\n"
   ]
  },
  {
   "cell_type": "code",
   "execution_count": 52,
   "id": "7a4e0e6e",
   "metadata": {},
   "outputs": [
    {
     "name": "stdout",
     "output_type": "stream",
     "text": [
      "a >> 1 = 5\n",
      "b >> 1 = -5\n",
      "a << 1 = 10\n",
      "b << 1 = -20\n"
     ]
    }
   ],
   "source": [
    "# Python program to show\n",
    "# shift operators\n",
    "\n",
    "a = 10\n",
    "b = -10\n",
    "\n",
    "# print bitwise right shift operator\n",
    "print(\"a >> 1 =\", a >> 1)\n",
    "print(\"b >> 1 =\", b >> 1)\n",
    "\n",
    "a = 5\n",
    "b = -10\n",
    "\n",
    "# print bitwise left shift operator\n",
    "print(\"a << 1 =\", a << 1)\n",
    "print(\"b << 1 =\", b << 1)\n"
   ]
  },
  {
   "cell_type": "markdown",
   "id": "76f666e9",
   "metadata": {},
   "source": [
    "# Logical operator"
   ]
  },
  {
   "cell_type": "code",
   "execution_count": 53,
   "id": "5ebd8742",
   "metadata": {},
   "outputs": [
    {
     "name": "stdout",
     "output_type": "stream",
     "text": [
      "True\n",
      "False\n",
      "False\n"
     ]
    }
   ],
   "source": [
    "a=True\n",
    "b=False\n",
    "print(a or b)\n",
    "print(a and b)\n",
    "print(a is b)"
   ]
  },
  {
   "cell_type": "code",
   "execution_count": 54,
   "id": "1da12823",
   "metadata": {},
   "outputs": [
    {
     "name": "stdout",
     "output_type": "stream",
     "text": [
      "True\n"
     ]
    }
   ],
   "source": [
    "print(a is not b)"
   ]
  },
  {
   "cell_type": "markdown",
   "id": "2350ef58",
   "metadata": {},
   "source": [
    "# Membership Operator"
   ]
  },
  {
   "cell_type": "code",
   "execution_count": 56,
   "id": "62d384f7",
   "metadata": {},
   "outputs": [
    {
     "name": "stdout",
     "output_type": "stream",
     "text": [
      "True\n"
     ]
    }
   ],
   "source": [
    "l=[2,3,4,5,6,6]\n",
    "print(2 in l)"
   ]
  },
  {
   "cell_type": "code",
   "execution_count": null,
   "id": "ce81cf34",
   "metadata": {},
   "outputs": [],
   "source": []
  }
 ],
 "metadata": {
  "kernelspec": {
   "display_name": "Python 3 (ipykernel)",
   "language": "python",
   "name": "python3"
  },
  "language_info": {
   "codemirror_mode": {
    "name": "ipython",
    "version": 3
   },
   "file_extension": ".py",
   "mimetype": "text/x-python",
   "name": "python",
   "nbconvert_exporter": "python",
   "pygments_lexer": "ipython3",
   "version": "3.9.12"
  }
 },
 "nbformat": 4,
 "nbformat_minor": 5
}
