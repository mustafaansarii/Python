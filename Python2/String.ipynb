{
 "cells": [
  {
   "cell_type": "code",
   "execution_count": null,
   "id": "882ba512",
   "metadata": {},
   "outputs": [],
   "source": [
    "w=\"hello!\"\n",
    "w"
   ]
  },
  {
   "cell_type": "code",
   "execution_count": null,
   "id": "2d9878d9",
   "metadata": {},
   "outputs": [],
   "source": [
    "a='''this is amazing\n",
    "how does you\n",
    "\n",
    "'''\n",
    "print(a)"
   ]
  },
  {
   "cell_type": "code",
   "execution_count": null,
   "id": "1befe1f8",
   "metadata": {},
   "outputs": [],
   "source": [
    "a='This is good thing!'\n",
    "print(a[0:19:2])"
   ]
  },
  {
   "cell_type": "code",
   "execution_count": null,
   "id": "99c07f9c",
   "metadata": {},
   "outputs": [],
   "source": [
    "len(a)"
   ]
  },
  {
   "cell_type": "code",
   "execution_count": null,
   "id": "8317b264",
   "metadata": {},
   "outputs": [],
   "source": [
    "a='This is good thing!'\n",
    "print(a[0::2])"
   ]
  },
  {
   "cell_type": "code",
   "execution_count": null,
   "id": "4bbb78a9",
   "metadata": {},
   "outputs": [],
   "source": [
    "w=\"welcome to the AI\"\n",
    "for i in range(len(w)):\n",
    "    print(w[i],end=\"\")\n",
    "    "
   ]
  },
  {
   "cell_type": "code",
   "execution_count": null,
   "id": "7e4e9d79",
   "metadata": {},
   "outputs": [],
   "source": [
    "w[::-1]"
   ]
  },
  {
   "cell_type": "code",
   "execution_count": null,
   "id": "179632b7",
   "metadata": {},
   "outputs": [],
   "source": [
    "w=w[::-1]\n",
    "for i in w:\n",
    "    print(i,end='')"
   ]
  },
  {
   "cell_type": "code",
   "execution_count": null,
   "id": "32ac56cd",
   "metadata": {},
   "outputs": [],
   "source": [
    "w=w[::-1]\n",
    "w=w.upper()\n",
    "w"
   ]
  },
  {
   "cell_type": "code",
   "execution_count": null,
   "id": "87e08f67",
   "metadata": {},
   "outputs": [],
   "source": [
    "w=w.lower()\n",
    "w"
   ]
  },
  {
   "cell_type": "code",
   "execution_count": null,
   "id": "2d8e078d",
   "metadata": {},
   "outputs": [],
   "source": [
    "w.title()"
   ]
  },
  {
   "cell_type": "code",
   "execution_count": null,
   "id": "5a21ab42",
   "metadata": {},
   "outputs": [],
   "source": [
    "w.capitalize()"
   ]
  },
  {
   "cell_type": "code",
   "execution_count": null,
   "id": "8fdad871",
   "metadata": {},
   "outputs": [],
   "source": [
    "w.find('e',10)"
   ]
  },
  {
   "cell_type": "code",
   "execution_count": null,
   "id": "ad38ecc3",
   "metadata": {},
   "outputs": [],
   "source": [
    "w.index('e',10)"
   ]
  },
  {
   "cell_type": "code",
   "execution_count": null,
   "id": "7b17df5d",
   "metadata": {},
   "outputs": [],
   "source": [
    "a=\"this\"\n",
    "a.isalpha()"
   ]
  },
  {
   "cell_type": "code",
   "execution_count": null,
   "id": "666d7979",
   "metadata": {},
   "outputs": [],
   "source": [
    "a.isdigit()"
   ]
  },
  {
   "cell_type": "code",
   "execution_count": null,
   "id": "b321ba37",
   "metadata": {},
   "outputs": [],
   "source": [
    "a='2333'\n",
    "a.isdigit()"
   ]
  },
  {
   "cell_type": "code",
   "execution_count": null,
   "id": "75772d30",
   "metadata": {},
   "outputs": [],
   "source": [
    "a=\"welcome23\"\n",
    "a.isalnum()"
   ]
  },
  {
   "cell_type": "code",
   "execution_count": null,
   "id": "fb123803",
   "metadata": {},
   "outputs": [],
   "source": [
    "a=\"welcome@#\"\n",
    "a.isalnum()"
   ]
  },
  {
   "cell_type": "code",
   "execution_count": null,
   "id": "8378abc7",
   "metadata": {},
   "outputs": [],
   "source": [
    "chr(65) #ascii value"
   ]
  },
  {
   "cell_type": "code",
   "execution_count": null,
   "id": "9d6d7de6",
   "metadata": {},
   "outputs": [],
   "source": [
    "chr(65)\n"
   ]
  },
  {
   "cell_type": "code",
   "execution_count": null,
   "id": "6fb9111e",
   "metadata": {},
   "outputs": [],
   "source": [
    "chr(66)\n"
   ]
  },
  {
   "cell_type": "code",
   "execution_count": null,
   "id": "41339f3e",
   "metadata": {},
   "outputs": [],
   "source": [
    "chr(67)\n"
   ]
  },
  {
   "cell_type": "code",
   "execution_count": null,
   "id": "91c5ce0f",
   "metadata": {},
   "outputs": [],
   "source": [
    "chr(69)"
   ]
  },
  {
   "cell_type": "code",
   "execution_count": null,
   "id": "1f6ca47d",
   "metadata": {},
   "outputs": [],
   "source": [
    "ord('A')"
   ]
  },
  {
   "cell_type": "code",
   "execution_count": null,
   "id": "cb1d91d2",
   "metadata": {},
   "outputs": [],
   "source": [
    "ord('a')"
   ]
  },
  {
   "cell_type": "code",
   "execution_count": null,
   "id": "0fc6eadf",
   "metadata": {},
   "outputs": [],
   "source": [
    "ord('B')"
   ]
  },
  {
   "cell_type": "code",
   "execution_count": null,
   "id": "19dba12c",
   "metadata": {},
   "outputs": [],
   "source": [
    "ord('c')"
   ]
  },
  {
   "cell_type": "code",
   "execution_count": null,
   "id": "fb1a575d",
   "metadata": {},
   "outputs": [],
   "source": [
    "a"
   ]
  },
  {
   "cell_type": "code",
   "execution_count": null,
   "id": "c8e51d33",
   "metadata": {},
   "outputs": [],
   "source": [
    "a='welcome'\n",
    "print(f\"{a} to the world!\")"
   ]
  },
  {
   "cell_type": "code",
   "execution_count": null,
   "id": "a978369b",
   "metadata": {},
   "outputs": [],
   "source": [
    "a=\"welcome! {} this is {}\".format(\"world\",\"amazing\")\n",
    "a"
   ]
  },
  {
   "cell_type": "code",
   "execution_count": null,
   "id": "faae9ec4",
   "metadata": {},
   "outputs": [],
   "source": [
    "a=\"welcome! {1} this is {0}\".format(\"world\",\"amazing\")\n",
    "a"
   ]
  },
  {
   "cell_type": "code",
   "execution_count": null,
   "id": "129a56d9",
   "metadata": {},
   "outputs": [],
   "source": [
    "# 1. Concatenation: Combining two or more strings.\n",
    "str1 = \"Hello\"\n",
    "str2 = \"World\"\n",
    "result = str1 + \" \" + str2\n",
    "print(result)  # Output: Hello World\n"
   ]
  },
  {
   "cell_type": "code",
   "execution_count": null,
   "id": "d82ed431",
   "metadata": {},
   "outputs": [],
   "source": [
    "\n",
    "# 2. Length: Finding the length of a string.\n",
    "str1 = \"Hello\"\n",
    "length = len(str1)\n",
    "print(length)  # Output: 5\n"
   ]
  },
  {
   "cell_type": "code",
   "execution_count": null,
   "id": "7b11146f",
   "metadata": {},
   "outputs": [],
   "source": [
    "\n",
    "# 3. Indexing: Accessing individual characters in a string.\n",
    "str1 = \"Hello\"\n",
    "print(str1[0])  # Output: H\n"
   ]
  },
  {
   "cell_type": "code",
   "execution_count": null,
   "id": "71e21a9f",
   "metadata": {},
   "outputs": [],
   "source": [
    "\n",
    "# 4. Slicing: Extracting a substring from a string.\n",
    "str1 = \"Hello World\"\n",
    "print(str1[0:5])  # Output: Hello\n"
   ]
  },
  {
   "cell_type": "code",
   "execution_count": null,
   "id": "13110a63",
   "metadata": {},
   "outputs": [],
   "source": [
    "\n",
    "# 5. Upper and Lower Case: Converting a string to upper or lower case.\n",
    "str1 = \"Hello\"\n",
    "upper_case = str1.upper()\n",
    "lower_case = str1.lower()\n",
    "print(upper_case)  # Output: HELLO\n",
    "print(lower_case)  # Output: hello\n"
   ]
  },
  {
   "cell_type": "code",
   "execution_count": null,
   "id": "60329c8d",
   "metadata": {},
   "outputs": [],
   "source": [
    "\n",
    "# 6. Strip: Removing leading and trailing whitespaces.\n",
    "str1 = \"  Hello World  \"\n",
    "stripped_str = str1.strip()\n",
    "print(stripped_str)  # Output: Hello World\n"
   ]
  },
  {
   "cell_type": "code",
   "execution_count": null,
   "id": "fbcd1154",
   "metadata": {},
   "outputs": [],
   "source": [
    "\n",
    "# 7. Split: Splitting a string into a list of substrings based on a delimiter.\n",
    "\n",
    "str1 = \"Hello,World\"\n",
    "split_str = str1.split(\",\")\n",
    "print(split_str)  # Output: ['Hello', 'World']\n"
   ]
  },
  {
   "cell_type": "code",
   "execution_count": null,
   "id": "416fedfe",
   "metadata": {},
   "outputs": [],
   "source": [
    "\n",
    "# 8. Join: Joining a list of strings into one string using a delimiter.\n",
    "list_of_strings = ['Hello', 'World']\n",
    "delimiter = \" \"\n",
    "joined_str = delimiter.join(list_of_strings)\n",
    "print(joined_str)  # Output: Hello World\n"
   ]
  },
  {
   "cell_type": "code",
   "execution_count": null,
   "id": "7934f8ae",
   "metadata": {},
   "outputs": [],
   "source": [
    "\n",
    "# 9. Replace: Replacing occurrences of a substring within a string.\n",
    "str1 = \"Hello World\"\n",
    "new_str = str1.replace(\"World\", \"Universe\")\n",
    "print(new_str)  # Output: Hello Universe\n"
   ]
  },
  {
   "cell_type": "code",
   "execution_count": null,
   "id": "a632d6a9",
   "metadata": {},
   "outputs": [],
   "source": [
    "\n",
    "# 10. Find: Finding the first occurrence of a substring within a string.\n",
    "str1 = \"Hello World\"\n",
    "index = str1.find(\"World\")\n",
    "print(index)  # Output: 6\n"
   ]
  }
 ],
 "metadata": {
  "kernelspec": {
   "display_name": "Python 3 (ipykernel)",
   "language": "python",
   "name": "python3"
  },
  "language_info": {
   "codemirror_mode": {
    "name": "ipython",
    "version": 3
   },
   "file_extension": ".py",
   "mimetype": "text/x-python",
   "name": "python",
   "nbconvert_exporter": "python",
   "pygments_lexer": "ipython3",
   "version": "3.9.12"
  }
 },
 "nbformat": 4,
 "nbformat_minor": 5
}
