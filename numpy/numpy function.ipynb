{
 "cells": [
  {
   "cell_type": "code",
   "execution_count": 31,
   "metadata": {},
   "outputs": [
    {
     "name": "stdout",
     "output_type": "stream",
     "text": [
      "[[1 2 3 4 5 6 8 9]\n",
      " [1 2 3 4 5 6 8 9]]\n"
     ]
    }
   ],
   "source": [
    "import numpy as np\n",
    "\n",
    "# Sorting a 2D array row-wise\n",
    "a = np.array([[2, 4, 3, 5, 6, 1, 9, 8], [2, 4, 3, 5, 6, 1, 9, 8]])\n",
    "print(np.sort(a))  # Sort each row in ascending order\n"
   ]
  },
  {
   "cell_type": "code",
   "execution_count": 30,
   "metadata": {},
   "outputs": [
    {
     "name": "stdout",
     "output_type": "stream",
     "text": [
      "[12 14]\n"
     ]
    }
   ],
   "source": [
    "# Filtering even numbers from an array\n",
    "a = np.array([12, 13, 14, 15])\n",
    "fa = a % 2 == 0\n",
    "ne = a[fa]\n",
    "print(ne)  # Output: [12, 14]"
   ]
  },
  {
   "cell_type": "code",
   "execution_count": 29,
   "metadata": {},
   "outputs": [
    {
     "name": "stdout",
     "output_type": "stream",
     "text": [
      "(array([1, 3, 6]),)\n"
     ]
    }
   ],
   "source": [
    "# Searching for elements divisible by 5 and getting their indices\n",
    "ar = np.array([4, 5, 67, 5, 2, 23, 55, 4])\n",
    "s = np.where(ar % 5 == 0)\n",
    "print(s)  # Output: (array([1, 3, 6]),)"
   ]
  },
  {
   "cell_type": "code",
   "execution_count": 27,
   "metadata": {},
   "outputs": [
    {
     "name": "stdout",
     "output_type": "stream",
     "text": [
      "3\n"
     ]
    }
   ],
   "source": [
    "# Binary search to find the index where 4 would be inserted to maintain sorted order\n",
    "a = np.array([1, 2, 3, 4, 5, 6, 7])\n",
    "b = np.searchsorted(a, 4)\n",
    "print(b)  # Output: 3\n"
   ]
  },
  {
   "cell_type": "code",
   "execution_count": 32,
   "metadata": {},
   "outputs": [
    {
     "name": "stdout",
     "output_type": "stream",
     "text": [
      "[12 14]\n"
     ]
    }
   ],
   "source": [
    "# Filtering an array based on a boolean array\n",
    "a = np.array([12, 13, 14, 15])\n",
    "fa = [True, False, True, False]\n",
    "new = a[fa]\n",
    "print(new)  # Output: [12, 14]"
   ]
  }
 ],
 "metadata": {
  "kernelspec": {
   "display_name": "Python 3",
   "language": "python",
   "name": "python3"
  },
  "language_info": {
   "codemirror_mode": {
    "name": "ipython",
    "version": 3
   },
   "file_extension": ".py",
   "mimetype": "text/x-python",
   "name": "python",
   "nbconvert_exporter": "python",
   "pygments_lexer": "ipython3",
   "version": "3.11.6"
  }
 },
 "nbformat": 4,
 "nbformat_minor": 2
}
