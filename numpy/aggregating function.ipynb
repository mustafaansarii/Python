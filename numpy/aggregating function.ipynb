{
 "cells": [
  {
   "cell_type": "code",
   "execution_count": 27,
   "metadata": {},
   "outputs": [
    {
     "name": "stdout",
     "output_type": "stream",
     "text": [
      "15\n",
      "5\n",
      "1\n",
      "5\n",
      "3.0\n",
      "[ 1  3  6 10 15]\n",
      "[  1   2   6  24 120]\n",
      "[100 200  45  45  43 354] \n",
      " [1 3 4 5 6 7]\n",
      "[[   1    3    4    5    6    7]\n",
      " [ 100  600  180  225  258 2478]]\n",
      "3841\n"
     ]
    }
   ],
   "source": [
    "import numpy as np\n",
    "\n",
    "# Creating a NumPy array\n",
    "a = np.array([1, 2, 3, 4, 5])\n",
    "\n",
    "# Computing the sum of array elements\n",
    "print(np.sum(a))  # Output: 15\n",
    "\n",
    "# Finding the maximum value in the array\n",
    "print(np.max(a))  # Output: 5\n",
    "\n",
    "# Finding the minimum value in the array\n",
    "print(np.min(a))  # Output: 1\n",
    "\n",
    "# Finding the number of elements in the array\n",
    "print(np.size(a))  # Output: 5\n",
    "\n",
    "# Calculating the mean (average) of array elements\n",
    "print(np.mean(a))  # Output: 3.0\n",
    "\n",
    "# Computing the cumulative sum of array elements\n",
    "print(np.cumsum(a))  # Output: [ 1  3  6 10 15]\n",
    "\n",
    "# Computing the cumulative product of array elements\n",
    "print(np.cumprod(a))  # Output: [  1   2   6  24 120]\n",
    "\n",
    "# Creating two arrays for price and quantity\n",
    "price = np.array([100, 200, 45, 45, 43, 354])\n",
    "quantity = np.array([1, 3, 4, 5, 6, 7])\n",
    "\n",
    "# Displaying price and quantity arrays\n",
    "print(price, \"\\n\", quantity)\n",
    "\n",
    "# Calculating cumulative product along axis 0 (row-wise)\n",
    "c = np.cumprod([quantity, price], axis=0)\n",
    "print(c)\n",
    "# Output:\n",
    "# [[  1   3   4   5   6   7]\n",
    "#  [100 300 1200 6000 36000 252000]]\n",
    "\n",
    "# Summing the second row of the cumulative product\n",
    "print(c[1].sum())  # Output: 299900\n"
   ]
  },
  {
   "cell_type": "code",
   "execution_count": null,
   "metadata": {},
   "outputs": [],
   "source": [
    "# Question:\n",
    "# Consider an initial array arr with elements [2, 3, 4, 5, 6]. Perform the following operations:\n",
    "\n",
    "# Calculate the cumulative product of the array.\n",
    "\n"
   ]
  },
  {
   "cell_type": "code",
   "execution_count": null,
   "metadata": {},
   "outputs": [],
   "source": [
    "# Find the index of the element in the cumulative product array where the product exceeds 100."
   ]
  },
  {
   "cell_type": "code",
   "execution_count": null,
   "metadata": {},
   "outputs": [],
   "source": [
    "\n",
    "# Display the resulting cumulative product array and the index found in step 2."
   ]
  },
  {
   "cell_type": "code",
   "execution_count": null,
   "metadata": {},
   "outputs": [],
   "source": [
    "# Write Python code to implement these operations and display the results."
   ]
  }
 ],
 "metadata": {
  "kernelspec": {
   "display_name": "Python 3",
   "language": "python",
   "name": "python3"
  },
  "language_info": {
   "codemirror_mode": {
    "name": "ipython",
    "version": 3
   },
   "file_extension": ".py",
   "mimetype": "text/x-python",
   "name": "python",
   "nbconvert_exporter": "python",
   "pygments_lexer": "ipython3",
   "version": "3.11.6"
  }
 },
 "nbformat": 4,
 "nbformat_minor": 2
}
