{
 "cells": [
  {
   "cell_type": "code",
   "execution_count": 1,
   "metadata": {},
   "outputs": [
    {
     "name": "stdout",
     "output_type": "stream",
     "text": [
      "Array Creation:\n",
      "array1: [1 2 3]\n",
      "array_zeros:\n",
      "[[0. 0. 0.]\n",
      " [0. 0. 0.]]\n",
      "array_ones:\n",
      "[[1. 1.]\n",
      " [1. 1.]\n",
      " [1. 1.]]\n",
      "array_range: [0 2 4 6 8]\n",
      "array_linspace: [0.   0.25 0.5  0.75 1.  ]\n"
     ]
    }
   ],
   "source": [
    "import numpy as np\n",
    "\n",
    "# Array Creation\n",
    "array1 = np.array([1, 2, 3])\n",
    "array_zeros = np.zeros((2, 3))\n",
    "array_ones = np.ones((3, 2))\n",
    "array_range = np.arange(0, 10, 2)\n",
    "array_linspace = np.linspace(0, 1, 5)\n",
    "\n",
    "# Print and Explanation\n",
    "print(\"Array Creation:\")\n",
    "print(\"array1:\", array1)  # 1D array\n",
    "print(\"array_zeros:\")\n",
    "print(array_zeros)  # 2D array of zeros\n",
    "print(\"array_ones:\")\n",
    "print(array_ones)   # 2D array of ones\n",
    "print(\"array_range:\", array_range)  # 1D array with values from 0 to 10 (exclusive) with step 2\n",
    "print(\"array_linspace:\", array_linspace)  # 1D array with 5 evenly spaced values between 0 and 1\n"
   ]
  },
  {
   "cell_type": "code",
   "execution_count": 8,
   "metadata": {},
   "outputs": [
    {
     "name": "stdout",
     "output_type": "stream",
     "text": [
      "\n",
      "Array Operations:\n",
      "array_addition: [5 7 9]\n",
      "array_dot_product: 32\n",
      "array_transpose:\n",
      "[[0. 0.]\n",
      " [0. 0.]\n",
      " [0. 0.]]\n",
      "array_sum: 6\n",
      "array_mean: 5.0\n",
      "array_max: 3\n",
      "array_min: 4\n"
     ]
    }
   ],
   "source": [
    "# Array Operations\n",
    "array2 = np.array([4, 5, 6])\n",
    "array_addition = array1 + array2\n",
    "array_dot_product = np.dot(array1, array2)\n",
    "array_transpose = np.transpose(array_zeros)\n",
    "array_sum = np.sum(array1)\n",
    "array_mean = np.mean(array2)\n",
    "array_max = np.max(array1)\n",
    "array_min = np.min(array2)\n",
    "\n",
    "# Print and Explanation\n",
    "print(\"\\nArray Operations:\")\n",
    "print(\"array_addition:\", array_addition)  # Element-wise addition\n",
    "print(\"array_dot_product:\", array_dot_product)  # Dot product of arrays\n",
    "print(\"array_transpose:\")\n",
    "print(array_transpose)  # Transpose of array_zeros\n",
    "print(\"array_sum:\", array_sum)  # Sum of array1\n",
    "print(\"array_mean:\", array_mean)  # Mean of array2\n",
    "print(\"array_max:\", array_max)  # Maximum value in array1\n",
    "print(\"array_min:\", array_min)  # Minimum value in array2\n"
   ]
  },
  {
   "cell_type": "code",
   "execution_count": 10,
   "metadata": {},
   "outputs": [
    {
     "name": "stdout",
     "output_type": "stream",
     "text": [
      "\n",
      "Array Manipulation:\n",
      "array_reshape:\n",
      "[[0 2 4 6 8]]\n",
      "array_concatenate: [1 2 3 4 5 6]\n",
      "array_vstack:\n",
      "[[1 2 3]\n",
      " [4 5 6]]\n",
      "array_hstack:\n",
      "[[ 0.  0.  0.  7.  8.  9.]\n",
      " [ 0.  0.  0. 10. 11. 12.]]\n"
     ]
    }
   ],
   "source": [
    "# Array Manipulation\n",
    "array3 = np.array([[7, 8, 9], [10, 11, 12]])\n",
    "array_reshape = np.reshape(array_range, (1, 5))  # Corrected shape to (1, 5) or (5, 1)\n",
    "array_concatenate = np.concatenate((array1, array2))\n",
    "array_vstack = np.vstack((array1, array2))\n",
    "array_hstack = np.hstack((array_zeros, array3))\n",
    "\n",
    "# Print and Explanation\n",
    "print(\"\\nArray Manipulation:\")\n",
    "print(\"array_reshape:\")\n",
    "print(array_reshape)  # Reshape array_range to a 1x5 matrix\n",
    "print(\"array_concatenate:\", array_concatenate)  # Concatenate arrays\n",
    "print(\"array_vstack:\")\n",
    "print(array_vstack)  # Vertically stack arrays\n",
    "print(\"array_hstack:\")\n",
    "print(array_hstack)  # Horizontally stack arrays\n"
   ]
  },
  {
   "cell_type": "code",
   "execution_count": 1,
   "metadata": {},
   "outputs": [
    {
     "name": "stdout",
     "output_type": "stream",
     "text": [
      "[[1 2 3 4]\n",
      " [5 6 7 8]]\n",
      "[[2 3 4]\n",
      " [6 7 8]]\n"
     ]
    }
   ],
   "source": [
    "import numpy as np\n",
    "a=np.array([[1,2,3,4],[5,6,7,8]])\n",
    "print(a)\n",
    "print(np.delete(a,0,axis=1))"
   ]
  }
 ],
 "metadata": {
  "kernelspec": {
   "display_name": "Python 3",
   "language": "python",
   "name": "python3"
  },
  "language_info": {
   "codemirror_mode": {
    "name": "ipython",
    "version": 3
   },
   "file_extension": ".py",
   "mimetype": "text/x-python",
   "name": "python",
   "nbconvert_exporter": "python",
   "pygments_lexer": "ipython3",
   "version": "3.11.6"
  }
 },
 "nbformat": 4,
 "nbformat_minor": 2
}
