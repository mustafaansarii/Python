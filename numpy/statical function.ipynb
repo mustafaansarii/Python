{
 "cells": [
  {
   "cell_type": "code",
   "execution_count": 19,
   "metadata": {},
   "outputs": [
    {
     "name": "stdout",
     "output_type": "stream",
     "text": [
      "Mean (Average): 256.6\n",
      "Median: 233.0\n",
      "Mode: 200\n",
      "Standard Deviation: 86.68471606921257\n",
      "Variance: 7514.240000000001\n",
      "Variance (Alternative): 7514.24\n"
     ]
    }
   ],
   "source": [
    "# Mean (Average): It is the sum of all values divided by the number of values. It gives a central value that represents the data's average.\n",
    "\n",
    "# Median: The middle value of a dataset when it is ordered. It's less sensitive to extreme values than the mean.\n",
    "\n",
    "# Mode: The value that appears most frequently in the dataset.\n",
    "\n",
    "# Standard Deviation: A measure of how spread out the values in the dataset are. A higher standard deviation indicates more variability.\n",
    "\n",
    "# Variance: The average of the squared differences from the Mean. It provides a measure of how much the values in the dataset vary from the mean.\n",
    "\n",
    "# Variance (Alternative): Calculated by squaring the standard deviation. This is another way to express the spread or dispersion of the data.\n",
    "\n",
    "import numpy as np\n",
    "import statistics as sts\n",
    "\n",
    "# Data\n",
    "baked_food = [200, 300, 150, 400, 233]\n",
    "\n",
    "# Convert the list to a NumPy array\n",
    "a = np.array(baked_food)\n",
    "\n",
    "# Calculate and print the mean (average) of the data\n",
    "mean_value = np.mean(baked_food)\n",
    "print(\"Mean (Average):\", mean_value)\n",
    "\n",
    "# Calculate and print the median of the data (sort and find the center value)\n",
    "median_value = np.median(baked_food)\n",
    "print(\"Median:\", median_value)\n",
    "\n",
    "# Calculate and print the mode of the data\n",
    "mode_value = sts.mode(baked_food)\n",
    "print(\"Mode:\", mode_value)\n",
    "\n",
    "# Calculate and print the standard deviation of the data\n",
    "std_deviation_value = np.std(baked_food)\n",
    "print(\"Standard Deviation:\", std_deviation_value)\n",
    "\n",
    "# Calculate and print the variance of the data\n",
    "variance_value = np.var(baked_food)\n",
    "print(\"Variance:\", variance_value)\n",
    "\n",
    "# Calculate and print the variance of the data using an alternative method (square of standard deviation)\n",
    "variance_alt_value = np.std(baked_food)**2\n",
    "print(\"Variance (Alternative):\", variance_alt_value)\n"
   ]
  },
  {
   "cell_type": "code",
   "execution_count": 15,
   "metadata": {},
   "outputs": [
    {
     "name": "stdout",
     "output_type": "stream",
     "text": [
      "[[1.         0.12943735]\n",
      " [0.12943735 1.        ]]\n"
     ]
    }
   ],
   "source": [
    "tobacco_consumption= [41,72,73,84,95,36,64]\n",
    "death=[3,34,5,5,6,7,2]\n",
    "print(np.corrcoef([tobacco_consumption,death]))"
   ]
  },
  {
   "cell_type": "code",
   "execution_count": 17,
   "metadata": {},
   "outputs": [
    {
     "name": "stdout",
     "output_type": "stream",
     "text": [
      "[[ 1.         -0.66951265]\n",
      " [-0.66951265  1.        ]]\n"
     ]
    }
   ],
   "source": [
    "price=[300,100,345,400]\n",
    "sales=[10,44,35,16]\n",
    "print(np.corrcoef([price,sales]))"
   ]
  }
 ],
 "metadata": {
  "kernelspec": {
   "display_name": "Python 3",
   "language": "python",
   "name": "python3"
  },
  "language_info": {
   "codemirror_mode": {
    "name": "ipython",
    "version": 3
   },
   "file_extension": ".py",
   "mimetype": "text/x-python",
   "name": "python",
   "nbconvert_exporter": "python",
   "pygments_lexer": "ipython3",
   "version": "3.11.6"
  }
 },
 "nbformat": 4,
 "nbformat_minor": 2
}
