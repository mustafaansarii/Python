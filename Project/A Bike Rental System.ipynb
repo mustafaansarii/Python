{
 "cells": [
  {
   "cell_type": "code",
   "execution_count": 2,
   "id": "e611b82d",
   "metadata": {},
   "outputs": [
    {
     "name": "stdout",
     "output_type": "stream",
     "text": [
      "\n",
      "    1 Display Bike\n",
      "    2 Rent Bike\n",
      "    3 Exit\n",
      " choose above option:4\n",
      "Please choose valid option\n",
      "\n",
      "    1 Display Bike\n",
      "    2 Rent Bike\n",
      "    3 Exit\n",
      " choose above option:2\n",
      "Enter qty: 400\n",
      "sorry! Bike is unavailble\n",
      "\n",
      "    1 Display Bike\n",
      "    2 Rent Bike\n",
      "    3 Exit\n",
      " choose above option:99\n",
      "Please choose valid option\n",
      "\n",
      "    1 Display Bike\n",
      "    2 Rent Bike\n",
      "    3 Exit\n",
      " choose above option:3\n",
      "Thanks for Visiting\n"
     ]
    }
   ],
   "source": [
    "class Bikeshop:\n",
    "    def __init__(self,stock):\n",
    "        self.stock=stock\n",
    "    def displaybike(self):\n",
    "        print(\"Total availble Bikes\", self.stock)\n",
    "    def rentforbike(self,quantity):\n",
    "        self.quantity=quantity\n",
    "        if quantity<=0:\n",
    "            print(\"Enter valid value\")\n",
    "        elif quantity>self.stock:\n",
    "            print(\"sorry! Bike is unavailble\")\n",
    "\n",
    "        else:\n",
    "            print(\"Total Price\",quantity*100)\n",
    "            self.stock=self.stock-quantity\n",
    "            print(\"Total available Bikes \",self.stock)\n",
    "\n",
    "while True:\n",
    "    object = Bikeshop(100)\n",
    "    uc=int(input('''\n",
    "    1 Display Bike\n",
    "    2 Rent Bike\n",
    "    3 Exit\\n choose above option:'''))\n",
    "\n",
    "    if uc==1:\n",
    "        object.displaybike()\n",
    "    elif uc==2:\n",
    "        buy = int(input(f\"Enter qty: \"))\n",
    "        object.rentforbike(buy)\n",
    "    elif uc==3:\n",
    "        print(\"Thanks for Visiting\")\n",
    "        break\n",
    "    else:\n",
    "        print(\"Please choose valid option\")\n"
   ]
  },
  {
   "cell_type": "code",
   "execution_count": null,
   "id": "d56ccc69",
   "metadata": {},
   "outputs": [],
   "source": []
  }
 ],
 "metadata": {
  "kernelspec": {
   "display_name": "Python 3 (ipykernel)",
   "language": "python",
   "name": "python3"
  },
  "language_info": {
   "codemirror_mode": {
    "name": "ipython",
    "version": 3
   },
   "file_extension": ".py",
   "mimetype": "text/x-python",
   "name": "python",
   "nbconvert_exporter": "python",
   "pygments_lexer": "ipython3",
   "version": "3.9.12"
  }
 },
 "nbformat": 4,
 "nbformat_minor": 5
}
