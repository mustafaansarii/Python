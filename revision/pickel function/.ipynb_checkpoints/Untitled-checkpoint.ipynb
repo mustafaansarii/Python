{
 "cells": [
  {
   "cell_type": "code",
   "execution_count": 6,
   "id": "5b3595e0",
   "metadata": {},
   "outputs": [],
   "source": [
    "import pickle\n",
    "import gradio as gr\n",
    "\n",
    "def greet(name):\n",
    "    return \"Hello!\" + name\n",
    "\n",
    "fileobj = open(\"greet.pkl\", \"wb\")\n",
    "pickle.dump(greet, fileobj)\n",
    "fileobj.close()\n",
    "\n"
   ]
  },
  {
   "cell_type": "code",
   "execution_count": 9,
   "id": "200fcdae",
   "metadata": {},
   "outputs": [
    {
     "name": "stdout",
     "output_type": "stream",
     "text": [
      "Running on local URL:  http://127.0.0.1:7862\n",
      "\n",
      "To create a public link, set `share=True` in `launch()`.\n"
     ]
    },
    {
     "data": {
      "text/html": [
       "<div><iframe src=\"http://127.0.0.1:7862/\" width=\"100%\" height=\"500\" allow=\"autoplay; camera; microphone; clipboard-read; clipboard-write;\" frameborder=\"0\" allowfullscreen></iframe></div>"
      ],
      "text/plain": [
       "<IPython.core.display.HTML object>"
      ]
     },
     "metadata": {},
     "output_type": "display_data"
    },
    {
     "data": {
      "text/plain": []
     },
     "execution_count": 9,
     "metadata": {},
     "output_type": "execute_result"
    }
   ],
   "source": [
    "mygreet = open(\"greet.pkl\", \"rb\")\n",
    "my_func = pickle.load(mygreet)\n",
    "mygreet.close()\n",
    "\n",
    "iface = gr.Interface(my_func, inputs=\"textbox\", outputs=\"textbox\")\n",
    "iface.launch()\n"
   ]
  },
  {
   "cell_type": "code",
   "execution_count": null,
   "id": "3d2404c1",
   "metadata": {},
   "outputs": [],
   "source": []
  },
  {
   "cell_type": "code",
   "execution_count": null,
   "id": "9f3e1716",
   "metadata": {},
   "outputs": [],
   "source": []
  }
 ],
 "metadata": {
  "kernelspec": {
   "display_name": "Python 3 (ipykernel)",
   "language": "python",
   "name": "python3"
  },
  "language_info": {
   "codemirror_mode": {
    "name": "ipython",
    "version": 3
   },
   "file_extension": ".py",
   "mimetype": "text/x-python",
   "name": "python",
   "nbconvert_exporter": "python",
   "pygments_lexer": "ipython3",
   "version": "3.9.12"
  }
 },
 "nbformat": 4,
 "nbformat_minor": 5
}
