{
 "cells": [
  {
   "cell_type": "markdown",
   "metadata": {},
   "source": [
    "# 1.\n",
    "<figure>\n",
    "    <center> <img src=\"https://static.takeuforward.org/wp/uploads/2022/08/P1.png\"  alt='missing' width=\"150\" length=\"200\" ><center/>\n",
    "<figure/>"
   ]
  },
  {
   "cell_type": "code",
   "execution_count": 31,
   "metadata": {},
   "outputs": [
    {
     "name": "stdout",
     "output_type": "stream",
     "text": [
      "* * * * * \n",
      "* * * * * \n",
      "* * * * * \n",
      "* * * * * \n",
      "* * * * * \n"
     ]
    }
   ],
   "source": [
    "n=int(input(\"Enter n:\"))\n",
    "a=0\n",
    "while a!=n:\n",
    "    for i in range(n):\n",
    "        print(\"*\", end=' ')\n",
    "    print()    \n",
    "    a+=1\n",
    "    "
   ]
  },
  {
   "cell_type": "markdown",
   "metadata": {},
   "source": [
    "# 2.\n",
    "<figure>\n",
    "    <center> <img src=\"https://static.takeuforward.org/wp/uploads/2022/08/P2.png\"  alt='missing' width=\"150\" length=\"200\" ><center/>\n",
    "<figure/>"
   ]
  },
  {
   "cell_type": "code",
   "execution_count": 35,
   "metadata": {},
   "outputs": [
    {
     "name": "stdout",
     "output_type": "stream",
     "text": [
      "* \n",
      "* * \n",
      "* * * \n",
      "* * * * \n",
      "* * * * * \n"
     ]
    }
   ],
   "source": [
    "a=int(input(\"Enter n:\"))\n",
    "n=1\n",
    "while n!=a:\n",
    "    for i in range(n):\n",
    "        print(\"*\", end=' ')\n",
    "    print()    \n",
    "    n+=1\n",
    "    "
   ]
  },
  {
   "cell_type": "markdown",
   "metadata": {},
   "source": [
    "# 3.\n",
    "<figure>\n",
    "    <center> <img src=\"https://static.takeuforward.org/wp/uploads/2022/08/P3.png\"  alt='missing' width=\"150\" length=\"200\" ><center/>\n",
    "<figure/>"
   ]
  },
  {
   "cell_type": "code",
   "execution_count": 52,
   "metadata": {},
   "outputs": [
    {
     "name": "stdout",
     "output_type": "stream",
     "text": [
      "1 \n",
      "1 2 \n",
      "1 2 3 \n",
      "1 2 3 4 \n",
      "1 2 3 4 5 \n"
     ]
    }
   ],
   "source": [
    "a=int(input(\"Enter n:\"))\n",
    "n=1\n",
    "while n!=a:\n",
    "    for i in range(1,n+1):\n",
    "        print(i, end=' ')\n",
    "    print()    \n",
    "    n+=1\n",
    "    "
   ]
  },
  {
   "cell_type": "markdown",
   "metadata": {},
   "source": [
    "# 4.\n",
    "<figure>\n",
    "    <center> <img src=\"https://static.takeuforward.org/wp/uploads/2022/08/P4.png\"  alt='missing' width=\"150\" length=\"200\" ><center/>\n",
    "<figure/>"
   ]
  },
  {
   "cell_type": "code",
   "execution_count": 113,
   "metadata": {},
   "outputs": [
    {
     "name": "stdout",
     "output_type": "stream",
     "text": [
      "1 \n",
      "2 2 \n",
      "3 3 3 \n",
      "4 4 4 4 \n",
      "5 5 5 5 5 \n"
     ]
    }
   ],
   "source": [
    "def printTriangle(N):\n",
    "    for i in range(1,N+1):\n",
    "        for j in range(1,i+1):\n",
    "            print(i,end=\" \")\n",
    "        print()\n",
    "printTriangle(5)"
   ]
  },
  {
   "cell_type": "markdown",
   "metadata": {},
   "source": [
    "# 5.\n",
    "<figure>\n",
    "    <center> <img src=\"https://static.takeuforward.org/wp/uploads/2022/08/P5.png\"  alt='missing' width=\"150\" length=\"200\" ><center/>\n",
    "<figure/>"
   ]
  },
  {
   "cell_type": "code",
   "execution_count": 122,
   "metadata": {},
   "outputs": [
    {
     "name": "stdout",
     "output_type": "stream",
     "text": [
      "* * * * * \n",
      "* * * * \n",
      "* * * \n",
      "* * \n",
      "* \n"
     ]
    }
   ],
   "source": [
    "def printTriangle2(N):\n",
    "    q=0\n",
    "    while q!=N:\n",
    "        for i in range(N):\n",
    "            print(\"*\", end=' ')\n",
    "        print()    \n",
    "        N-=1\n",
    "printTriangle2(5)"
   ]
  },
  {
   "cell_type": "markdown",
   "metadata": {},
   "source": [
    "# 6.\n",
    "<figure>\n",
    "    <center> <img src=\"https://static.takeuforward.org/wp/uploads/2022/08/P6.png\"  alt='missing' width=\"150\" length=\"200\" ><center/>\n",
    "<figure/>"
   ]
  },
  {
   "cell_type": "code",
   "execution_count": 125,
   "metadata": {},
   "outputs": [
    {
     "name": "stdout",
     "output_type": "stream",
     "text": [
      "1 2 3 4 5 \n",
      "1 2 3 4 \n",
      "1 2 3 \n",
      "1 2 \n",
      "1 \n"
     ]
    }
   ],
   "source": [
    "def printTriangle3(N):\n",
    "    q=0\n",
    "    while q!=N:\n",
    "        for i in range(1,N+1):\n",
    "            print(i, end=' ')\n",
    "        print()    \n",
    "        N-=1\n",
    "printTriangle3(5)"
   ]
  },
  {
   "cell_type": "markdown",
   "metadata": {},
   "source": [
    "# 7.\n",
    "<figure>\n",
    "    <center> <img src=\"https://static.takeuforward.org/wp/uploads/2022/08/P7.png\"  alt='missing' width=\"150\" length=\"200\" ><center/>\n",
    "<figure/>"
   ]
  },
  {
   "cell_type": "code",
   "execution_count": 207,
   "metadata": {},
   "outputs": [
    {
     "name": "stdout",
     "output_type": "stream",
     "text": [
      "    *\n",
      "   ***\n",
      "  *****\n",
      " *******\n",
      "*********\n"
     ]
    }
   ],
   "source": [
    "class Solution:\n",
    "    def printTriangle(self, N):\n",
    "        for i in range(N):\n",
    "            for j in range(N-i-1):\n",
    "                print(\" \",end=\"\")\n",
    "            for k in range(2*i+1):\n",
    "                print(\"*\",end=\"\")\n",
    "            print(\"\")\n",
    "Solution().printTriangle(5)"
   ]
  },
  {
   "cell_type": "markdown",
   "metadata": {},
   "source": [
    "# 8.\n",
    "<figure>\n",
    "    <center> <img src=\"https://static.takeuforward.org/wp/uploads/2022/08/P8.png\"  alt='missing' width=\"150\" length=\"200\" ><center/>\n",
    "<figure/>"
   ]
  },
  {
   "cell_type": "code",
   "execution_count": 164,
   "metadata": {},
   "outputs": [
    {
     "name": "stdout",
     "output_type": "stream",
     "text": [
      "*****\n",
      " ***\n",
      "  *\n"
     ]
    }
   ],
   "source": [
    "def printTriangle5(N):\n",
    "    for i in range(N):\n",
    "        print(\" \"*i, end='')\n",
    "        print(\"*\"*(N-i), end=\"\")\n",
    "        print(\"*\"*(N-i-1))\n",
    "\n",
    "printTriangle5(3)"
   ]
  },
  {
   "cell_type": "markdown",
   "metadata": {},
   "source": [
    "# 9.\n",
    "<figure>\n",
    "    <center> <img src=\"https://static.takeuforward.org/wp/uploads/2022/08/P9.png\"  alt='missing' width=\"150\" length=\"200\" ><center/>\n",
    "<figure/>"
   ]
  },
  {
   "cell_type": "code",
   "execution_count": 209,
   "metadata": {},
   "outputs": [
    {
     "name": "stdout",
     "output_type": "stream",
     "text": [
      "    *\n",
      "   ***\n",
      "  *****\n",
      " *******\n",
      "*********\n",
      "*********\n",
      " *******\n",
      "  *****\n",
      "   ***\n",
      "    *\n"
     ]
    }
   ],
   "source": [
    "class Solution:\n",
    "    def printTriangle(self, N):\n",
    "        for i in range(N):\n",
    "            for j in range(N-i-1):\n",
    "                print(\" \",end=\"\")\n",
    "            for k in range(2*i+1):\n",
    "                print(\"*\",end=\"\")\n",
    "            print(\"\")\n",
    "        for l in range(N):\n",
    "            print(\" \"*l, end='')\n",
    "            print(\"*\"*(N-l), end=\"\")\n",
    "            print(\"*\"*(N-l-1))\n",
    "Solution().printTriangle(5)"
   ]
  },
  {
   "cell_type": "markdown",
   "metadata": {},
   "source": [
    "# 10.\n",
    "<figure>\n",
    "    <center> <img src=\"https://static.takeuforward.org/wp/uploads/2022/08/P10.png\"  alt='missing' width=\"150\" length=\"200\" ><center/>\n",
    "<figure/>"
   ]
  },
  {
   "cell_type": "code",
   "execution_count": 219,
   "metadata": {},
   "outputs": [
    {
     "name": "stdout",
     "output_type": "stream",
     "text": [
      "* \n",
      "* * \n",
      "* * * \n",
      "* * * * \n",
      "* * * * * \n",
      "* * * * \n",
      "* * * \n",
      "* * \n",
      "* \n"
     ]
    }
   ],
   "source": [
    "def printTriangle6(N):\n",
    "    for i in range(1,N):\n",
    "        for j in range(1,i+1):\n",
    "            print(\"*\",end=\" \")\n",
    "        print()\n",
    "    q=0\n",
    "    while q!=N:\n",
    "        for i in range(N):\n",
    "            print(\"*\", end=' ')\n",
    "        print()    \n",
    "        N-=1\n",
    "printTriangle6(5)"
   ]
  },
  {
   "cell_type": "markdown",
   "metadata": {},
   "source": [
    "# 11.\n",
    "<figure>\n",
    "    <center> <img src=\"https://static.takeuforward.org/wp/uploads/2022/08/P11.png\"  alt='missing' width=\"150\" length=\"200\" ><center/>\n",
    "<figure/>"
   ]
  },
  {
   "cell_type": "code",
   "execution_count": null,
   "metadata": {},
   "outputs": [],
   "source": []
  },
  {
   "cell_type": "markdown",
   "metadata": {},
   "source": [
    "# 12.\n",
    "<figure>\n",
    "    <center> <img src=\"https://static.takeuforward.org/wp/uploads/2022/08/P12.png\"  alt='missing' width=\"150\" length=\"200\" ><center/>\n",
    "<figure/>"
   ]
  },
  {
   "cell_type": "code",
   "execution_count": null,
   "metadata": {},
   "outputs": [],
   "source": []
  },
  {
   "cell_type": "markdown",
   "metadata": {},
   "source": [
    "# 13.\n",
    "<figure>\n",
    "    <center> <img src=\"https://static.takeuforward.org/wp/uploads/2022/08/P13.png\"  alt='missing' width=\"150\" length=\"200\" ><center/>\n",
    "<figure/>"
   ]
  },
  {
   "cell_type": "code",
   "execution_count": null,
   "metadata": {},
   "outputs": [],
   "source": []
  },
  {
   "cell_type": "markdown",
   "metadata": {},
   "source": [
    "# 14.\n",
    "<figure>\n",
    "    <center> <img src=\"https://static.takeuforward.org/wp/uploads/2022/08/P14.png\"  alt='missing' width=\"150\" length=\"200\" ><center/>\n",
    "<figure/>"
   ]
  },
  {
   "cell_type": "code",
   "execution_count": null,
   "metadata": {},
   "outputs": [],
   "source": []
  },
  {
   "cell_type": "markdown",
   "metadata": {},
   "source": [
    "# 15.\n",
    "<figure>\n",
    "    <center> <img src=\"https://static.takeuforward.org/wp/uploads/2022/08/P15.png\"  alt='missing' width=\"150\" length=\"200\" ><center/>\n",
    "<figure/>"
   ]
  },
  {
   "cell_type": "code",
   "execution_count": null,
   "metadata": {},
   "outputs": [],
   "source": []
  },
  {
   "cell_type": "markdown",
   "metadata": {},
   "source": [
    "# 16.\n",
    "<figure>\n",
    "    <center> <img src=\"https://static.takeuforward.org/wp/uploads/2022/08/P16.png\"  alt='missing' width=\"150\" length=\"200\" ><center/>\n",
    "<figure/>"
   ]
  },
  {
   "cell_type": "code",
   "execution_count": null,
   "metadata": {},
   "outputs": [],
   "source": []
  },
  {
   "cell_type": "markdown",
   "metadata": {},
   "source": [
    "# 17.\n",
    "<figure>\n",
    "    <center> <img src=\"https://static.takeuforward.org/wp/uploads/2022/08/P17.png\"  alt='missing' width=\"150\" length=\"200\" ><center/>\n",
    "<figure/>"
   ]
  },
  {
   "cell_type": "code",
   "execution_count": null,
   "metadata": {},
   "outputs": [],
   "source": []
  },
  {
   "cell_type": "markdown",
   "metadata": {},
   "source": [
    "# 18.\n",
    "<figure>\n",
    "    <center> <img src=\"https://static.takeuforward.org/wp/uploads/2022/08/P18.png\"  alt='missing' width=\"150\" length=\"200\" ><center/>\n",
    "<figure/>"
   ]
  },
  {
   "cell_type": "code",
   "execution_count": null,
   "metadata": {},
   "outputs": [],
   "source": []
  },
  {
   "cell_type": "markdown",
   "metadata": {},
   "source": [
    "# 19.\n",
    "<figure>\n",
    "    <center> <img src=\"https://static.takeuforward.org/wp/uploads/2022/08/P19.png\"  alt='missing' width=\"150\" length=\"200\" ><center/>\n",
    "<figure/>"
   ]
  },
  {
   "cell_type": "code",
   "execution_count": null,
   "metadata": {},
   "outputs": [],
   "source": []
  },
  {
   "cell_type": "markdown",
   "metadata": {},
   "source": [
    "# 20.\n",
    "<figure>\n",
    "    <center> <img src=\"https://static.takeuforward.org/wp/uploads/2022/08/P20.png\"  alt='missing' width=\"150\" length=\"200\" ><center/>\n",
    "<figure/>"
   ]
  },
  {
   "cell_type": "code",
   "execution_count": null,
   "metadata": {},
   "outputs": [],
   "source": []
  },
  {
   "cell_type": "markdown",
   "metadata": {},
   "source": [
    "# 21.\n",
    "<figure>\n",
    "    <center> <img src=\"https://static.takeuforward.org/wp/uploads/2023/01/Screenshot-2023-01-02-at-1.54.55-PM-1.jpg\"  alt='missing' width=\"150\" length=\"200\" ><center/>\n",
    "<figure/>"
   ]
  },
  {
   "cell_type": "code",
   "execution_count": null,
   "metadata": {},
   "outputs": [],
   "source": []
  },
  {
   "cell_type": "markdown",
   "metadata": {},
   "source": [
    "# 22.\n",
    "<figure>\n",
    "    <center> <img src=\"https://static.takeuforward.org/wp/uploads/2022/08/P22.png\"  alt='missing' width=\"150\" length=\"200\" ><center/>\n",
    "<figure/>"
   ]
  },
  {
   "cell_type": "code",
   "execution_count": null,
   "metadata": {},
   "outputs": [],
   "source": []
  }
 ],
 "metadata": {
  "kernelspec": {
   "display_name": "base",
   "language": "python",
   "name": "python3"
  },
  "language_info": {
   "codemirror_mode": {
    "name": "ipython",
    "version": 3
   },
   "file_extension": ".py",
   "mimetype": "text/x-python",
   "name": "python",
   "nbconvert_exporter": "python",
   "pygments_lexer": "ipython3",
   "version": "3.9.12"
  }
 },
 "nbformat": 4,
 "nbformat_minor": 2
}
