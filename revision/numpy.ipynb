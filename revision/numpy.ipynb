{
 "cells": [
  {
   "cell_type": "code",
   "execution_count": 2,
   "metadata": {},
   "outputs": [
    {
     "name": "stdout",
     "output_type": "stream",
     "text": [
      "Array Addition: [ 3  6  9 12 15]\n",
      "Array Multiplication: [ 3  6  9 12 15]\n"
     ]
    }
   ],
   "source": [
    "import numpy as np\n",
    "\n",
    "# Creating Arrays\n",
    "arr1 = np.array([1, 2, 3, 4, 5])\n",
    "arr2 = np.array([2, 4, 6, 8, 10])\n",
    "random_array = np.random.rand(3, 3)\n",
    "\n",
    "# Array Operations\n",
    "result_addition = arr1 + arr2\n",
    "result_multiplication = arr1 * 3\n",
    "print(\"Array Addition:\", result_addition)\n",
    "print(\"Array Multiplication:\", result_multiplication)\n",
    "\n",
    "\n",
    "\n",
    "\n",
    "\n"
   ]
  },
  {
   "cell_type": "code",
   "execution_count": 3,
   "metadata": {},
   "outputs": [
    {
     "name": "stdout",
     "output_type": "stream",
     "text": [
      "Element at Index 2: 3\n",
      "Subarray: [2 3 4]\n"
     ]
    }
   ],
   "source": [
    "# Array Indexing and Slicing\n",
    "element = arr1[2]\n",
    "subarray = arr1[1:4]\n",
    "print(\"Element at Index 2:\", element)\n",
    "print(\"Subarray:\", subarray)\n"
   ]
  },
  {
   "cell_type": "code",
   "execution_count": 12,
   "metadata": {},
   "outputs": [
    {
     "name": "stdout",
     "output_type": "stream",
     "text": [
      "Shape of arr1: (5,)\n",
      "Reshaped arr1: [[1 2 3 4 5]]\n",
      "Matrix Product: [[19 22]\n",
      " [43 50]]\n",
      "Random Array: [[0.30138574 0.83140492 0.22698776]\n",
      " [0.66761117 0.60790173 0.94197067]\n",
      " [0.83307904 0.84068299 0.11686402]]\n"
     ]
    }
   ],
   "source": [
    "# Array Shape and Reshaping\n",
    "shape_arr1 = arr1.shape\n",
    "reshaped_arr1 = arr1.reshape((1, 5))\n",
    "print(\"Shape of arr1:\", shape_arr1)\n",
    "print(\"Reshaped arr1:\", reshaped_arr1)\n",
    "\n",
    "# Linear Algebra Operations\n",
    "matrix1 = np.array([[1, 2], [3, 4]])\n",
    "matrix2 = np.array([[5, 6], [7, 8]])\n",
    "matrix_product = np.dot(matrix1, matrix2)\n",
    "print(\"Matrix Product:\", matrix_product)\n",
    "\n",
    "# Random Number Generation\n",
    "print(\"Random Array:\", random_array)"
   ]
  },
  {
   "cell_type": "code",
   "execution_count": 13,
   "metadata": {},
   "outputs": [
    {
     "name": "stdout",
     "output_type": "stream",
     "text": [
      "Mean of arr1: 3.0\n",
      "Standard Deviation of arr1: 1.4142135623730951\n"
     ]
    }
   ],
   "source": [
    "# Statistical Operations\n",
    "mean_value_arr1 = np.mean(arr1)\n",
    "std_deviation_arr1 = np.std(arr1)\n",
    "print(\"Mean of arr1:\", mean_value_arr1)\n",
    "print(\"Standard Deviation of arr1:\", std_deviation_arr1)\n",
    "\n"
   ]
  },
  {
   "cell_type": "code",
   "execution_count": 14,
   "metadata": {},
   "outputs": [
    {
     "name": "stdout",
     "output_type": "stream",
     "text": [
      "Saved and Loaded Array1: [1 2 3 4 5]\n"
     ]
    }
   ],
   "source": [
    "# Saving and Loading Arrays\n",
    "np.save('arr1.npy', arr1)\n",
    "loaded_arr1 = np.load('arr1.npy')\n",
    "print(\"Saved and Loaded Array1:\", loaded_arr1)"
   ]
  },
  {
   "cell_type": "code",
   "execution_count": 15,
   "metadata": {},
   "outputs": [
    {
     "name": "stdout",
     "output_type": "stream",
     "text": [
      "Broadcasting Result: [[3 4]\n",
      " [5 6]]\n"
     ]
    }
   ],
   "source": [
    "\n",
    "# Broadcasting\n",
    "scalar = 2\n",
    "result_broadcasting = matrix1 + scalar\n",
    "print(\"Broadcasting Result:\", result_broadcasting)\n"
   ]
  },
  {
   "cell_type": "code",
   "execution_count": 16,
   "metadata": {},
   "outputs": [
    {
     "name": "stdout",
     "output_type": "stream",
     "text": [
      "Squared Array (Vectorization): [ 1  4  9 16 25]\n"
     ]
    }
   ],
   "source": [
    "# Vectorization\n",
    "square_function = np.vectorize(lambda x: x**2)\n",
    "squared_array = square_function(arr1)\n",
    "print(\"Squared Array (Vectorization):\", squared_array)\n"
   ]
  },
  {
   "cell_type": "code",
   "execution_count": 17,
   "metadata": {},
   "outputs": [
    {
     "name": "stdout",
     "output_type": "stream",
     "text": [
      "Transposed Matrix1: [[1 3]\n",
      " [2 4]]\n"
     ]
    }
   ],
   "source": [
    "\n",
    "# Transposition\n",
    "transposed_matrix1 = np.transpose(matrix1)\n",
    "print(\"Transposed Matrix1:\", transposed_matrix1)\n",
    "\n",
    "\n"
   ]
  },
  {
   "cell_type": "code",
   "execution_count": 18,
   "metadata": {},
   "outputs": [
    {
     "name": "stdout",
     "output_type": "stream",
     "text": [
      "Filtered Array (Boolean Indexing): [4 5]\n"
     ]
    }
   ],
   "source": [
    "# Boolean Indexing\n",
    "boolean_condition = arr1 > 3\n",
    "filtered_array = arr1[boolean_condition]\n",
    "print(\"Filtered Array (Boolean Indexing):\", filtered_array)\n",
    "\n"
   ]
  },
  {
   "cell_type": "code",
   "execution_count": 19,
   "metadata": {},
   "outputs": [
    {
     "name": "stdout",
     "output_type": "stream",
     "text": [
      "Concatenated Array: [ 1  2  3  4  5  2  4  6  8 10]\n",
      "Split Arrays: [array([1, 2, 3, 4, 5]), array([ 2,  4,  6,  8, 10])]\n"
     ]
    }
   ],
   "source": [
    "# Concatenation and Splitting\n",
    "concatenated_array = np.concatenate((arr1, arr2))\n",
    "split_arrays = np.split(concatenated_array, 2)\n",
    "print(\"Concatenated Array:\", concatenated_array)\n",
    "print(\"Split Arrays:\", split_arrays)\n"
   ]
  },
  {
   "cell_type": "code",
   "execution_count": null,
   "metadata": {},
   "outputs": [],
   "source": []
  }
 ],
 "metadata": {
  "kernelspec": {
   "display_name": "Python 3",
   "language": "python",
   "name": "python3"
  },
  "language_info": {
   "codemirror_mode": {
    "name": "ipython",
    "version": 3
   },
   "file_extension": ".py",
   "mimetype": "text/x-python",
   "name": "python",
   "nbconvert_exporter": "python",
   "pygments_lexer": "ipython3",
   "version": "3.11.6"
  }
 },
 "nbformat": 4,
 "nbformat_minor": 2
}
