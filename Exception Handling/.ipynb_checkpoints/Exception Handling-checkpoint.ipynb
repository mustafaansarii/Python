{
 "cells": [
  {
   "cell_type": "markdown",
   "id": "3c3b4123",
   "metadata": {},
   "source": [
    "# Errors can be two types in Python\n",
    "* Syntax Error (Can't handle)\n",
    "* Logical Error (Can be handle)"
   ]
  },
  {
   "cell_type": "markdown",
   "id": "4564b3dc",
   "metadata": {},
   "source": [
    "# These type of Error can be handle\n",
    "1. Zero division\n",
    "2. Number Error\n",
    "3. Type Error\n",
    "4. Valaue Error\n",
    "5. Index Error\n",
    "6. Key Error\n",
    "7. Module Not found Error\n",
    "8. Import Error"
   ]
  },
  {
   "cell_type": "code",
   "execution_count": null,
   "id": "63f35849",
   "metadata": {},
   "outputs": [],
   "source": []
  }
 ],
 "metadata": {
  "kernelspec": {
   "display_name": "Python 3 (ipykernel)",
   "language": "python",
   "name": "python3"
  },
  "language_info": {
   "codemirror_mode": {
    "name": "ipython",
    "version": 3
   },
   "file_extension": ".py",
   "mimetype": "text/x-python",
   "name": "python",
   "nbconvert_exporter": "python",
   "pygments_lexer": "ipython3",
   "version": "3.9.12"
  }
 },
 "nbformat": 4,
 "nbformat_minor": 5
}
