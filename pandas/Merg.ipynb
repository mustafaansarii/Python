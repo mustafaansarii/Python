{
 "cells": [
  {
   "cell_type": "code",
   "execution_count": 24,
   "metadata": {},
   "outputs": [
    {
     "name": "stdout",
     "output_type": "stream",
     "text": [
      "  Emp id   Name  Age\n",
      "0    E01    ram   34\n",
      "1    E02  shyam   54\n",
      "2    E03  rahul   32\n",
      "3    E04  mohan   26\n",
      "  Emp id  salary  Age\n",
      "0    E01   23000   34\n",
      "1    E02   45000   54\n",
      "2    E07    5600   32\n",
      "3    E08   70000   26\n"
     ]
    }
   ],
   "source": [
    "import pandas as pd\n",
    "data1={\"Emp id\":[\"E01\",\"E02\",\"E03\",\"E04\"],\n",
    "       \"Name\":[\"ram\",\"shyam\",\"rahul\",\"mohan\"],\n",
    "       \"Age\":[34,54,32,26]}\n",
    "\n",
    "data2={\"Emp id\":[\"E01\",\"E02\",\"E07\",\"E08\"],\n",
    "       \"salary\":[23000,45000,5600,70000],\n",
    "       \"Age\":[34,54,32,26]}\n",
    "\n",
    "df1=(pd.DataFrame(data1))\n",
    "print(df1)\n",
    "df2=(pd.DataFrame(data2)) \n",
    "print(df2)\n"
   ]
  },
  {
   "cell_type": "code",
   "execution_count": 28,
   "metadata": {},
   "outputs": [
    {
     "name": "stdout",
     "output_type": "stream",
     "text": [
      "  Emp id   Name  Age_x   salary  Age_y\n",
      "0    E01    ram     34  23000.0   34.0\n",
      "1    E02  shyam     54  45000.0   54.0\n",
      "2    E03  rahul     32      NaN    NaN\n",
      "3    E04  mohan     26      NaN    NaN\n"
     ]
    }
   ],
   "source": [
    "print(pd.merge(left= df1,right=df2,on=\"Emp id\", how=\"left\"))"
   ]
  },
  {
   "cell_type": "code",
   "execution_count": 29,
   "metadata": {},
   "outputs": [
    {
     "name": "stdout",
     "output_type": "stream",
     "text": [
      "  Emp id   Name  Age_x  salary  Age_y\n",
      "0    E01    ram   34.0   23000     34\n",
      "1    E02  shyam   54.0   45000     54\n",
      "2    E07    NaN    NaN    5600     32\n",
      "3    E08    NaN    NaN   70000     26\n"
     ]
    }
   ],
   "source": [
    "print(pd.merge(left= df1,right=df2,on=\"Emp id\", how=\"right\"))"
   ]
  },
  {
   "cell_type": "code",
   "execution_count": 41,
   "metadata": {},
   "outputs": [
    {
     "name": "stdout",
     "output_type": "stream",
     "text": [
      "  Emp id   Name  Age_x  salary  Age_y\n",
      "0    E01    ram     34   23000     34\n",
      "1    E02  shyam     54   45000     54\n",
      "2    E03  rahul     32    5600     32\n"
     ]
    }
   ],
   "source": [
    "import pandas as pd\n",
    "\n",
    "data1 = {\"Emp id\": [\"E01\", \"E02\", \"E03\", \"E04\"],\n",
    "         \"Name\": [\"ram\", \"shyam\", \"rahul\", \"mohan\"],\n",
    "         \"Age\": [34, 54, 32, 26]}\n",
    "\n",
    "data2 = {\"Emp id\": [\"E01\", \"E02\", \"E03\", \"E0\"],\n",
    "         \"salary\": [23000, 45000, 5600, 70000],\n",
    "         \"Age\": [34, 54, 32, 26]}\n",
    "\n",
    "df1 = pd.DataFrame(data1)\n",
    "df2 = pd.DataFrame(data2)\n",
    "\n",
    "# Merge data1 and data2 on 'Emp id'\n",
    "result = pd.merge(df1, df2, on='Emp id')\n",
    "\n",
    "# Display the result\n",
    "print(result)\n"
   ]
  },
  {
   "cell_type": "code",
   "execution_count": 42,
   "metadata": {},
   "outputs": [],
   "source": [
    "import pandas as pd\n",
    "\n",
    "data1 = {\"Emp id\": [\"E01\", \"E02\", \"E03\", \"E04\"],\n",
    "         \"Name\": [\"ram\", \"shyam\", \"rahul\", \"mohan\"],\n",
    "         \"Age\": [34, 54, 32, 26]}\n",
    "\n",
    "data2 = {\"Emp id\": [\"E05\", \"E06\", \"E07\", \"E08\"],\n",
    "         \"Name\": [\"pappu\", \"achhotu\", \"ankit\", \"sonu\"],\n",
    "         \"Age\": [34, 34, 32, 36]}\n",
    "df1=pd.DataFrame(data1)\n",
    "df2=pd.DataFrame(data2)\n"
   ]
  },
  {
   "cell_type": "code",
   "execution_count": 43,
   "metadata": {},
   "outputs": [
    {
     "name": "stdout",
     "output_type": "stream",
     "text": [
      "  Emp id     Name  Age\n",
      "0    E01      ram   34\n",
      "1    E02    shyam   54\n",
      "2    E03    rahul   32\n",
      "3    E04    mohan   26\n",
      "0    E05    pappu   34\n",
      "1    E06  achhotu   34\n",
      "2    E07    ankit   32\n",
      "3    E08     sonu   36\n"
     ]
    }
   ],
   "source": [
    "print(pd.concat([df1,df2]))"
   ]
  }
 ],
 "metadata": {
  "kernelspec": {
   "display_name": "Python 3",
   "language": "python",
   "name": "python3"
  },
  "language_info": {
   "codemirror_mode": {
    "name": "ipython",
    "version": 3
   },
   "file_extension": ".py",
   "mimetype": "text/x-python",
   "name": "python",
   "nbconvert_exporter": "python",
   "pygments_lexer": "ipython3",
   "version": "3.11.6"
  }
 },
 "nbformat": 4,
 "nbformat_minor": 2
}
