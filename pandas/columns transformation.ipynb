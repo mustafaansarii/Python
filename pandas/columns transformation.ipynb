{
 "cells": [
  {
   "cell_type": "code",
   "execution_count": 1,
   "metadata": {},
   "outputs": [
    {
     "name": "stdout",
     "output_type": "stream",
     "text": [
      "       EEID        Full Name                 Job Title  Department  \\\n",
      "0    E02387      Emily Davis                Sr. Manger          IT   \n",
      "1    E04105    Theodore Dinh       Technical Architect          IT   \n",
      "2    E02572     Luna Sanders                  Director     Finance   \n",
      "3    E02832  Penelope Jordan  Computer Systems Manager          IT   \n",
      "4    E01639        Austin Vo               Sr. Analyst     Finance   \n",
      "..      ...              ...                       ...         ...   \n",
      "995  E03094     Wesley Young               Sr. Analyst   Marketing   \n",
      "996  E01909     Lillian Khan                   Analyst     Finance   \n",
      "997  E04398      Oliver Yang                  Director   Marketing   \n",
      "998  E02521      Lily Nguyen               Sr. Analyst     Finance   \n",
      "999  E03545      Sofia Cheng            Vice President  Accounting   \n",
      "\n",
      "              Business Unit  Gender  Ethnicity  Age  Hire Date  Annual Salary  \\\n",
      "0    Research & Development  Female      Black   55 2016-04-08         141604   \n",
      "1             Manufacturing    Male      Asian   59 1997-11-29          99975   \n",
      "2       Speciality Products  Female  Caucasian   50 2006-10-26         163099   \n",
      "3             Manufacturing  Female  Caucasian   26 2019-09-27          84913   \n",
      "4             Manufacturing    Male      Asian   55 1995-11-20          95409   \n",
      "..                      ...     ...        ...  ...        ...            ...   \n",
      "995     Speciality Products    Male  Caucasian   33 2016-09-18          98427   \n",
      "996     Speciality Products  Female      Asian   44 2010-05-31          47387   \n",
      "997     Speciality Products    Male      Asian   31 2019-06-10         176710   \n",
      "998     Speciality Products  Female      Asian   33 2012-01-28          95960   \n",
      "999               Corporate  Female      Asian   63 2020-07-26         216195   \n",
      "\n",
      "     Bonus %        Country       City  Exit Date  \n",
      "0       0.15  United States    Seattle 2021-10-16  \n",
      "1       0.00          China  Chongqing        NaT  \n",
      "2       0.20  United States    Chicago        NaT  \n",
      "3       0.07  United States    Chicago        NaT  \n",
      "4       0.00  United States    Phoenix        NaT  \n",
      "..       ...            ...        ...        ...  \n",
      "995     0.00  United States   Columbus        NaT  \n",
      "996     0.00          China    Chengdu 2018-01-08  \n",
      "997     0.15  United States      Miami        NaT  \n",
      "998     0.00          China    Chengdu        NaT  \n",
      "999     0.31  United States      Miami        NaT  \n",
      "\n",
      "[1000 rows x 14 columns]\n"
     ]
    }
   ],
   "source": [
    "import pandas as pd\n",
    "\n",
    "# Reading an Excel file into a DataFrame (df)\n",
    "df = pd.read_excel(\"ESD.xlsx\")\n",
    "print(df)\n"
   ]
  },
  {
   "cell_type": "code",
   "execution_count": 2,
   "metadata": {},
   "outputs": [
    {
     "name": "stdout",
     "output_type": "stream",
     "text": [
      "       EEID        Full Name                 Job Title  Department  \\\n",
      "0    E02387      Emily Davis                Sr. Manger          IT   \n",
      "1    E04105    Theodore Dinh       Technical Architect          IT   \n",
      "2    E02572     Luna Sanders                  Director     Finance   \n",
      "3    E02832  Penelope Jordan  Computer Systems Manager          IT   \n",
      "4    E01639        Austin Vo               Sr. Analyst     Finance   \n",
      "..      ...              ...                       ...         ...   \n",
      "995  E03094     Wesley Young               Sr. Analyst   Marketing   \n",
      "996  E01909     Lillian Khan                   Analyst     Finance   \n",
      "997  E04398      Oliver Yang                  Director   Marketing   \n",
      "998  E02521      Lily Nguyen               Sr. Analyst     Finance   \n",
      "999  E03545      Sofia Cheng            Vice President  Accounting   \n",
      "\n",
      "              Business Unit  Gender  Ethnicity  Age  Hire Date  Annual Salary  \\\n",
      "0    Research & Development  Female      Black   55 2016-04-08         141604   \n",
      "1             Manufacturing    Male      Asian   59 1997-11-29          99975   \n",
      "2       Speciality Products  Female  Caucasian   50 2006-10-26         163099   \n",
      "3             Manufacturing  Female  Caucasian   26 2019-09-27          84913   \n",
      "4             Manufacturing    Male      Asian   55 1995-11-20          95409   \n",
      "..                      ...     ...        ...  ...        ...            ...   \n",
      "995     Speciality Products    Male  Caucasian   33 2016-09-18          98427   \n",
      "996     Speciality Products  Female      Asian   44 2010-05-31          47387   \n",
      "997     Speciality Products    Male      Asian   31 2019-06-10         176710   \n",
      "998     Speciality Products  Female      Asian   33 2012-01-28          95960   \n",
      "999               Corporate  Female      Asian   63 2020-07-26         216195   \n",
      "\n",
      "     Bonus %        Country       City  Exit Date  GetBonus  \n",
      "0       0.15  United States    Seattle 2021-10-16     bonus  \n",
      "1       0.00          China  Chongqing        NaT  no bonus  \n",
      "2       0.20  United States    Chicago        NaT     bonus  \n",
      "3       0.07  United States    Chicago        NaT     bonus  \n",
      "4       0.00  United States    Phoenix        NaT  no bonus  \n",
      "..       ...            ...        ...        ...       ...  \n",
      "995     0.00  United States   Columbus        NaT  no bonus  \n",
      "996     0.00          China    Chengdu 2018-01-08  no bonus  \n",
      "997     0.15  United States      Miami        NaT     bonus  \n",
      "998     0.00          China    Chengdu        NaT  no bonus  \n",
      "999     0.31  United States      Miami        NaT     bonus  \n",
      "\n",
      "[1000 rows x 15 columns]\n"
     ]
    }
   ],
   "source": [
    "# Adding a new column \"GetBonus\" based on the \"Bonus %\" column\n",
    "# If \"Bonus %\" is 0, set \"GetBonus\" to \"no bonus\"\n",
    "df.loc[df[\"Bonus %\"] == 0, \"GetBonus\"] = \"no bonus\"\n",
    "\n",
    "# If \"Bonus %\" is greater than 0, set \"GetBonus\" to \"bonus\"\n",
    "df.loc[df[\"Bonus %\"] > 0, \"GetBonus\"] = \"bonus\"\n",
    "\n",
    "print(df)"
   ]
  },
  {
   "cell_type": "code",
   "execution_count": 3,
   "metadata": {},
   "outputs": [
    {
     "name": "stdout",
     "output_type": "stream",
     "text": [
      "     EEID        Full Name                 Job Title Department  \\\n",
      "0  E02387      Emily Davis                Sr. Manger         IT   \n",
      "1  E04105    Theodore Dinh       Technical Architect         IT   \n",
      "2  E02572     Luna Sanders                  Director    Finance   \n",
      "3  E02832  Penelope Jordan  Computer Systems Manager         IT   \n",
      "4  E01639        Austin Vo               Sr. Analyst    Finance   \n",
      "\n",
      "            Business Unit  Gender  Ethnicity  Age  Hire Date  Annual Salary  \\\n",
      "0  Research & Development  Female      Black   55 2016-04-08         141604   \n",
      "1           Manufacturing    Male      Asian   59 1997-11-29          99975   \n",
      "2     Speciality Products  Female  Caucasian   50 2006-10-26         163099   \n",
      "3           Manufacturing  Female  Caucasian   26 2019-09-27          84913   \n",
      "4           Manufacturing    Male      Asian   55 1995-11-20          95409   \n",
      "\n",
      "   Bonus %        Country       City  Exit Date  GetBonus  \n",
      "0     0.15  United States    Seattle 2021-10-16     bonus  \n",
      "1     0.00          China  Chongqing        NaT  no bonus  \n",
      "2     0.20  United States    Chicago        NaT     bonus  \n",
      "3     0.07  United States    Chicago        NaT     bonus  \n",
      "4     0.00  United States    Phoenix        NaT  no bonus  \n"
     ]
    }
   ],
   "source": [
    "print(df.head())"
   ]
  },
  {
   "cell_type": "code",
   "execution_count": 4,
   "metadata": {},
   "outputs": [
    {
     "name": "stdout",
     "output_type": "stream",
     "text": [
      "   employeeNumber   lastName firstName  salery gender\n",
      "0            1002     Murphy     Diane   50000      f\n",
      "1            1056  Patterson      Mary   55000      f\n",
      "2            1076   Firrelli      Jeff    9273      f\n",
      "3            1088  Patterson   William    4871      m\n",
      "4            1102     Bondur      john    4408      m\n",
      "5            1143        Bow   Anthony   20000      m\n",
      "6            1165   Jennings    Leslie    2291      f\n",
      "7            1166   Thompson    Leslie    4065      f\n",
      "8            1188   Firrelli     Julie    2173      f\n"
     ]
    }
   ],
   "source": [
    "# Reading a CSV file into another DataFrame (data)\n",
    "data = pd.read_csv(\"employees.csv\")\n",
    "print(data)"
   ]
  },
  {
   "cell_type": "code",
   "execution_count": 5,
   "metadata": {},
   "outputs": [
    {
     "name": "stdout",
     "output_type": "stream",
     "text": [
      "   employeeNumber   lastName firstName  salery gender          Full name\n",
      "0            1002     Murphy     Diane   50000      f       DIANE Murphy\n",
      "1            1056  Patterson      Mary   55000      f     MARY Patterson\n",
      "2            1076   Firrelli      Jeff    9273      f      JEFF Firrelli\n",
      "3            1088  Patterson   William    4871      m  WILLIAM Patterson\n",
      "4            1102     Bondur      john    4408      m        JOHN Bondur\n",
      "5            1143        Bow   Anthony   20000      m        ANTHONY Bow\n",
      "6            1165   Jennings    Leslie    2291      f    LESLIE Jennings\n",
      "7            1166   Thompson    Leslie    4065      f    LESLIE Thompson\n",
      "8            1188   Firrelli     Julie    2173      f     JULIE Firrelli\n"
     ]
    }
   ],
   "source": [
    "# Creating a new column \"Full name\" by concatenating \"firstName\" and \"lastName\" in uppercase\n",
    "data[\"Full name\"] = data[\"firstName\"].str.upper() + \" \" + data[\"lastName\"]\n",
    "print(data)"
   ]
  },
  {
   "cell_type": "code",
   "execution_count": 6,
   "metadata": {},
   "outputs": [
    {
     "name": "stdout",
     "output_type": "stream",
     "text": [
      "   employeeNumber   lastName firstName  salery gender          Full name\n",
      "0            1002     Murphy     Diane   50000      f       Diane Murphy\n",
      "1            1056  Patterson      Mary   55000      f     Mary Patterson\n",
      "2            1076   Firrelli      Jeff    9273      f      Jeff Firrelli\n",
      "3            1088  Patterson   William    4871      m  William Patterson\n",
      "4            1102     Bondur      john    4408      m        John Bondur\n",
      "5            1143        Bow   Anthony   20000      m        Anthony Bow\n",
      "6            1165   Jennings    Leslie    2291      f    Leslie Jennings\n",
      "7            1166   Thompson    Leslie    4065      f    Leslie Thompson\n",
      "8            1188   Firrelli     Julie    2173      f     Julie Firrelli\n"
     ]
    }
   ],
   "source": [
    "\n",
    "# Creating a new column \"Full name\" by concatenating \"firstName\" and \"lastName\" with capitalized first letters\n",
    "data[\"Full name\"] = data[\"firstName\"].str.capitalize() + \" \" + data[\"lastName\"].str.capitalize()\n",
    "print(data)"
   ]
  },
  {
   "cell_type": "code",
   "execution_count": null,
   "metadata": {},
   "outputs": [],
   "source": []
  }
 ],
 "metadata": {
  "kernelspec": {
   "display_name": "Python 3",
   "language": "python",
   "name": "python3"
  },
  "language_info": {
   "codemirror_mode": {
    "name": "ipython",
    "version": 3
   },
   "file_extension": ".py",
   "mimetype": "text/x-python",
   "name": "python",
   "nbconvert_exporter": "python",
   "pygments_lexer": "ipython3",
   "version": "3.11.6"
  }
 },
 "nbformat": 4,
 "nbformat_minor": 2
}
