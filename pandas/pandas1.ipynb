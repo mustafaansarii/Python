{
 "cells": [
  {
   "cell_type": "markdown",
   "metadata": {},
   "source": [
    "• Pandas is a Python package providing fast, flexible, and expressive data structures designed to make working with \"relational\" or \"labeled\" data both easy and intuitive.\n"
   ]
  },
  {
   "cell_type": "markdown",
   "metadata": {},
   "source": [
    "Here are just a few of the things that pandas does well: \n",
    "It has functions for analyzing, cleaning, exploring, and manipulating data."
   ]
  },
  {
   "cell_type": "markdown",
   "metadata": {},
   "source": [
    "Name Reference: The name \"Pandas\" is a combination of \"Panel Data\" and \"Python Data Analysis.\"\n",
    "\n"
   ]
  },
  {
   "cell_type": "markdown",
   "metadata": {},
   "source": [
    "Creation: Pandas was created by Wes McKinney in 2008. Wes McKinney is a software developer and data analyst who saw the need for a powerful and efficient tool for data manipulation and analysis in Python."
   ]
  },
  {
   "cell_type": "code",
   "execution_count": null,
   "metadata": {},
   "outputs": [],
   "source": [
    "# Easy handling of missing data.\n",
    "# Size mutability: columns can be inserted and deleted from DataFrame and higher dimensional objects.\n",
    "# • Automatic and explicit data alignment: objects can be explicitly aligned to a set of labels, or the user can simply ignore the labels and let Series, DataFrame tc."
   ]
  },
  {
   "cell_type": "code",
   "execution_count": null,
   "metadata": {},
   "outputs": [],
   "source": [
    "# • Automatically align the data for you in computations.\n",
    "# • Powerful, flexible group by functionality.\n",
    "# .\n",
    "# Intelligent label-based slicing, fancy indexing, and subsetting of large data sets.\n",
    "# Intuitive merging and joining data sets.\n",
    "# Flexible reshaping and pivoting of data sets."
   ]
  },
  {
   "cell_type": "code",
   "execution_count": null,
   "metadata": {},
   "outputs": [],
   "source": [
    "# Pandas is an open-source data manipulation and analysis library for Python. It provides high-performance, easy-to-use data structures, and data analysis tools for handling and manipulating structured data. The primary data structures in Pandas are the **Series** and **DataFrame**.\n",
    "\n",
    "# - **Series:** A one-dimensional labeled array capable of holding any data type. It is similar to a column in a spreadsheet or a one-dimensional NumPy array.\n",
    "\n",
    "# - **DataFrame:** A two-dimensional table with rows and columns, similar to a spreadsheet or a SQL table. It is a primary data structure for most Pandas operations and is highly versatile for data manipulation and analysis.\n",
    "\n",
    "# Here are some key features and functionalities of Pandas:\n",
    "\n",
    "# 1. **Data Handling:** Pandas makes it easy to import, clean, and manipulate data. It provides tools for reading and writing data in various formats, including CSV, Excel, SQL databases, and more.\n",
    "\n",
    "# 2. **Data Exploration and Analysis:** Pandas offers a wide range of functions for exploring and analyzing data. This includes descriptive statistics, grouping and aggregation, merging and joining datasets, and handling missing data.\n",
    "\n",
    "# 3. **Indexing and Selection:** Pandas provides powerful indexing capabilities, allowing users to slice, filter, and select data based on various conditions. This makes it easy to work with subsets of data.\n",
    "\n",
    "# 4. **Time Series Data:** Pandas has excellent support for time-series data, making it a popular choice for analyzing time-based datasets.\n",
    "\n",
    "# 5. **Integration with Other Libraries:** Pandas integrates well with other Python libraries, such as NumPy, Matplotlib, and scikit-learn, providing a comprehensive ecosystem for data analysis, visualization, and machine learning.\n",
    "\n",
    "# 6. **Flexible Handling of Missing Data:** Pandas provides tools for handling missing or incomplete data, including options for filling, dropping, or interpolating missing values.\n",
    "\n",
    "# 7. **Wide Range of Operations:** Users can perform a variety of operations on Pandas data structures, including arithmetic operations, mathematical functions, and custom transformations.\n",
    "\n",
    "# 8. **Community and Documentation:** Pandas has a vibrant community, and extensive documentation is available, making it easy for users to get started and find help when needed.\n",
    "\n",
    "# Pandas is widely used in various fields, including data science, finance, economics, and research, due to its efficiency and versatility in handling and analyzing structured data in Python."
   ]
  },
  {
   "cell_type": "code",
   "execution_count": 3,
   "metadata": {},
   "outputs": [
    {
     "name": "stdout",
     "output_type": "stream",
     "text": [
      "    name  age  sallery\n",
      "0   john   24    10000\n",
      "1  peter   54    23000\n",
      "2   lisa   23    43000\n"
     ]
    }
   ],
   "source": [
    "import pandas as pd\n",
    "data= {\"name\":[\"john\",\"peter\",\"lisa\"],\n",
    "       \"age\":[24,54,23],\n",
    "       \"sallery\":[10000,23000,43000]}\n",
    "df=pd.DataFrame(data)\n",
    "print(df)"
   ]
  },
  {
   "cell_type": "code",
   "execution_count": 18,
   "metadata": {},
   "outputs": [
    {
     "name": "stdout",
     "output_type": "stream",
     "text": [
      "    employeeNumber   lastName firstName extension  \\\n",
      "0             1002     Murphy     Diane     x5800   \n",
      "1             1056  Patterson      Mary     x4611   \n",
      "2             1076   Firrelli      Jeff     x9273   \n",
      "3             1088  Patterson   William     x4871   \n",
      "4             1102     Bondur    Gerard     x5408   \n",
      "5             1143        Bow   Anthony     x5428   \n",
      "6             1165   Jennings    Leslie     x3291   \n",
      "7             1166   Thompson    Leslie     x4065   \n",
      "8             1188   Firrelli     Julie     x2173   \n",
      "9             1216  Patterson     Steve     x4334   \n",
      "10            1286      Tseng  Foon Yue     x2248   \n",
      "11            1323     Vanauf    George     x4102   \n",
      "12            1337     Bondur      Loui     x6493   \n",
      "13            1370  Hernandez    Gerard     x2028   \n",
      "14            1401   Castillo    Pamela     x2759   \n",
      "15            1501       Bott     Larry     x2311   \n",
      "16            1504      Jones     Barry      x102   \n",
      "17            1611     Fixter      Andy      x101   \n",
      "18            1612      Marsh     Peter      x102   \n",
      "19            1619       King       Tom      x103   \n",
      "20            1621      Nishi      Mami      x101   \n",
      "21            1625       Kato   Yoshimi      x102   \n",
      "22            1702     Gerard    Martin     x2312   \n",
      "\n",
      "                              email  officeCode  reportsTo  \\\n",
      "0      dmurphy@classicmodelcars.com           1        NaN   \n",
      "1    mpatterso@classicmodelcars.com           1     1002.0   \n",
      "2    jfirrelli@classicmodelcars.com           1     1002.0   \n",
      "3   wpatterson@classicmodelcars.com           6     1056.0   \n",
      "4      gbondur@classicmodelcars.com           4     1056.0   \n",
      "5         abow@classicmodelcars.com           1     1056.0   \n",
      "6    ljennings@classicmodelcars.com           1     1143.0   \n",
      "7    lthompson@classicmodelcars.com           1     1143.0   \n",
      "8    jfirrelli@classicmodelcars.com           2     1143.0   \n",
      "9   spatterson@classicmodelcars.com           2     1143.0   \n",
      "10      ftseng@classicmodelcars.com           3     1143.0   \n",
      "11     gvanauf@classicmodelcars.com           3     1143.0   \n",
      "12     lbondur@classicmodelcars.com           4     1102.0   \n",
      "13   ghernande@classicmodelcars.com           4     1102.0   \n",
      "14   pcastillo@classicmodelcars.com           4     1102.0   \n",
      "15       lbott@classicmodelcars.com           7     1102.0   \n",
      "16      bjones@classicmodelcars.com           7     1102.0   \n",
      "17     afixter@classicmodelcars.com           6     1088.0   \n",
      "18      pmarsh@classicmodelcars.com           6     1088.0   \n",
      "19       tking@classicmodelcars.com           6     1088.0   \n",
      "20      mnishi@classicmodelcars.com           5     1056.0   \n",
      "21       ykato@classicmodelcars.com           5     1621.0   \n",
      "22     mgerard@classicmodelcars.com           4     1102.0   \n",
      "\n",
      "                jobTitle  \n",
      "0              President  \n",
      "1               VP Sales  \n",
      "2           VP Marketing  \n",
      "3   Sales Manager (APAC)  \n",
      "4    Sale Manager (EMEA)  \n",
      "5     Sales Manager (NA)  \n",
      "6              Sales Rep  \n",
      "7              Sales Rep  \n",
      "8              Sales Rep  \n",
      "9              Sales Rep  \n",
      "10             Sales Rep  \n",
      "11             Sales Rep  \n",
      "12             Sales Rep  \n",
      "13             Sales Rep  \n",
      "14             Sales Rep  \n",
      "15             Sales Rep  \n",
      "16             Sales Rep  \n",
      "17             Sales Rep  \n",
      "18             Sales Rep  \n",
      "19             Sales Rep  \n",
      "20             Sales Rep  \n",
      "21             Sales Rep  \n",
      "22             Sales Rep  \n"
     ]
    }
   ],
   "source": [
    "data=pd.read_csv(\"employees.csv\")\n",
    "print(data)"
   ]
  },
  {
   "cell_type": "code",
   "execution_count": 20,
   "metadata": {},
   "outputs": [
    {
     "name": "stdout",
     "output_type": "stream",
     "text": [
      "         Date    Category       Sub-Category   Amount Payment Mode\n",
      "0  2023-01-01     Grocery             Grocery      30         Cash\n",
      "1  2023-01-02        Food          Restaurant     890          UPI\n",
      "2  2023-01-04         123              Zomato     257          NaN\n",
      "3  2023-01-06  Essentials               Diary     120          UPI\n",
      "4  2023-01-06  Essentials             Perfume    1500         Cash\n",
      "5  2023-01-09     Grocery  Fruits and Veggies     456         Cash\n",
      "6  2023-01-10       Bills          House Rent   16000          UPI\n",
      "7  2023-01-10     Grocery      Tomato KetchUp      70          UPI\n",
      "8  2023-01-12        Food                Chai      15          UPI\n",
      "9  2023-01-15  Essentials      Salt and Sugar      50          NaN\n",
      "10 2023-01-17     Grocery           Chocolate     100          UPI\n",
      "11 2023-01-17        Food          Restaurant     780         Card\n",
      "12 2023-01-18  Essentials            Food Oil     120          NaN\n",
      "13 2023-01-18        Food              Zomato     230          UPI\n",
      "14 2023-01-19     Grocery                Milk      26          UPI\n",
      "15 2023-01-20  Essentials             Shampoo     780          UPI\n",
      "16 2023-01-20  Essentials           Lunch Box     890         Cash\n",
      "17 2023-01-21     Clothes               Dress    1000          NaN\n",
      "18 2023-01-22     Clothes               Dress    1890          UPI\n",
      "19 2023-01-23     Grocery      Bread and Milk      56         Cash\n",
      "20 2023-01-24        Food  Fruits and Veggies     530         Cash\n",
      "21 2023-01-26        Food                Chai      10          UPI\n",
      "22 2023-01-26     Grocery               Maggi     140          UPI\n",
      "23 2023-01-27        Food              Zomato     300          UPI\n",
      "24 2023-01-27        Food                Chai      10          UPI\n",
      "25 2023-01-28  Essentials           Bedsheets    1025         Cash\n",
      "26 2023-01-29       Bills             Mobile     1650          UPI\n",
      "27 2023-01-29     Grocery                Daal     150         Cash\n",
      "28 2023-01-30       Bills            Cylinder    1074          UPI\n"
     ]
    }
   ],
   "source": [
    "data=pd.read_excel(\"expense3.xlsx\")\n",
    "print(data)"
   ]
  },
  {
   "cell_type": "code",
   "execution_count": null,
   "metadata": {},
   "outputs": [],
   "source": []
  }
 ],
 "metadata": {
  "kernelspec": {
   "display_name": "Python 3",
   "language": "python",
   "name": "python3"
  },
  "language_info": {
   "codemirror_mode": {
    "name": "ipython",
    "version": 3
   },
   "file_extension": ".py",
   "mimetype": "text/x-python",
   "name": "python",
   "nbconvert_exporter": "python",
   "pygments_lexer": "ipython3",
   "version": "3.11.6"
  }
 },
 "nbformat": 4,
 "nbformat_minor": 2
}
