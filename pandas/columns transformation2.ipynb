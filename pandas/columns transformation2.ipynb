{
 "cells": [
  {
   "cell_type": "code",
   "execution_count": 1,
   "metadata": {},
   "outputs": [
    {
     "name": "stdout",
     "output_type": "stream",
     "text": [
      "   employeeNumber   lastName firstName  salery gender\n",
      "0            1002     Murphy     Diane   50000      f\n",
      "1            1056  Patterson      Mary   55000      f\n",
      "2            1076   Firrelli      Jeff    9273      f\n",
      "3            1088  Patterson   William    4871      m\n",
      "4            1102     Bondur      john    4408      m\n",
      "5            1143        Bow   Anthony   20000      m\n",
      "6            1165   Jennings    Leslie    2291      f\n",
      "7            1166   Thompson    Leslie    4065      f\n",
      "8            1188   Firrelli     Julie    2173      f\n"
     ]
    }
   ],
   "source": [
    "import pandas as pd\n",
    "\n",
    "# Reading an Excel file into a DataFrame (df)\n",
    "data = pd.read_csv(\"employees.csv\")\n",
    "print(data)\n"
   ]
  },
  {
   "cell_type": "code",
   "execution_count": 2,
   "metadata": {},
   "outputs": [
    {
     "name": "stdout",
     "output_type": "stream",
     "text": [
      "   employeeNumber   lastName firstName  salery gender    Bonus\n",
      "0            1002     Murphy     Diane   50000      f  10000.0\n",
      "1            1056  Patterson      Mary   55000      f  11000.0\n",
      "2            1076   Firrelli      Jeff    9273      f   1854.6\n",
      "3            1088  Patterson   William    4871      m    974.2\n",
      "4            1102     Bondur      john    4408      m    881.6\n",
      "5            1143        Bow   Anthony   20000      m   4000.0\n",
      "6            1165   Jennings    Leslie    2291      f    458.2\n",
      "7            1166   Thompson    Leslie    4065      f    813.0\n",
      "8            1188   Firrelli     Julie    2173      f    434.6\n"
     ]
    }
   ],
   "source": [
    "data[\"Bonus\"]=(data[\"salery\"]/100)*20\n",
    "print(data)"
   ]
  },
  {
   "cell_type": "code",
   "execution_count": 5,
   "metadata": {},
   "outputs": [
    {
     "name": "stdout",
     "output_type": "stream",
     "text": [
      "  months\n",
      "0    jan\n",
      "1    feb\n",
      "2  march\n",
      "3   aprl\n",
      "4    may\n",
      "  months Short_months\n",
      "0    jan          jan\n",
      "1    feb          feb\n",
      "2  march          mar\n",
      "3   aprl          apr\n",
      "4    may          may\n"
     ]
    }
   ],
   "source": [
    "import pandas as pd\n",
    "\n",
    "# Creating a DataFrame with a column named 'months'\n",
    "data3 = {\n",
    "    'months': ['jan', 'feb', 'march', 'aprl', 'may']\n",
    "}\n",
    "a = pd.DataFrame(data3)\n",
    "\n",
    "# Printing the original DataFrame\n",
    "print(a)\n",
    "\n",
    "# Define a function 'extract' to take the first three characters of a string\n",
    "def extract(value):\n",
    "    return value[0:3]\n",
    "\n",
    "# Adding a new column 'Short_months' by applying the 'extract' function to 'months' column\n",
    "a[\"Short_months\"] = a[\"months\"].map(extract)\n",
    "\n",
    "# Printing the DataFrame with the new 'Short_months' column\n",
    "print(a)\n"
   ]
  }
 ],
 "metadata": {
  "kernelspec": {
   "display_name": "Python 3",
   "language": "python",
   "name": "python3"
  },
  "language_info": {
   "codemirror_mode": {
    "name": "ipython",
    "version": 3
   },
   "file_extension": ".py",
   "mimetype": "text/x-python",
   "name": "python",
   "nbconvert_exporter": "python",
   "pygments_lexer": "ipython3",
   "version": "3.11.6"
  }
 },
 "nbformat": 4,
 "nbformat_minor": 2
}
