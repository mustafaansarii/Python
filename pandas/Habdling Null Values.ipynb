{
 "cells": [
  {
   "cell_type": "code",
   "execution_count": 4,
   "metadata": {},
   "outputs": [
    {
     "name": "stdout",
     "output_type": "stream",
     "text": [
      "   employeeNumber   lastName firstName   salery\n",
      "0            1002     Murphy     Diane  50000.0\n",
      "1            1056  Patterson      Mary  55000.0\n",
      "2            1076   Firrelli      Jeff   9273.0\n",
      "3            1088  Patterson   William   4871.0\n",
      "4            1102     Bondur       NaN   4408.0\n",
      "5            1143        Bow   Anthony      NaN\n",
      "6            1165   Jennings    Leslie   2291.0\n",
      "7            1166   Thompson    Leslie   4065.0\n",
      "8            1188   Firrelli     Julie   2173.0\n"
     ]
    }
   ],
   "source": [
    "import pandas as pd\n",
    "data=pd.read_csv(\"employees.csv\")\n",
    "print(data)"
   ]
  },
  {
   "cell_type": "code",
   "execution_count": 5,
   "metadata": {},
   "outputs": [
    {
     "name": "stdout",
     "output_type": "stream",
     "text": [
      "   employeeNumber  lastName  firstName  salery\n",
      "0           False     False      False   False\n",
      "1           False     False      False   False\n",
      "2           False     False      False   False\n",
      "3           False     False      False   False\n",
      "4           False     False       True   False\n",
      "5           False     False      False    True\n",
      "6           False     False      False   False\n",
      "7           False     False      False   False\n",
      "8           False     False      False   False\n"
     ]
    }
   ],
   "source": [
    "print(data.isnull())"
   ]
  },
  {
   "cell_type": "code",
   "execution_count": 6,
   "metadata": {},
   "outputs": [
    {
     "name": "stdout",
     "output_type": "stream",
     "text": [
      "employeeNumber    0\n",
      "lastName          0\n",
      "firstName         1\n",
      "salery            1\n",
      "dtype: int64\n"
     ]
    }
   ],
   "source": [
    "print(data.isnull().sum())"
   ]
  },
  {
   "cell_type": "code",
   "execution_count": 7,
   "metadata": {},
   "outputs": [
    {
     "name": "stdout",
     "output_type": "stream",
     "text": [
      "   employeeNumber   lastName firstName   salery\n",
      "0            1002     Murphy     Diane  50000.0\n",
      "1            1056  Patterson      Mary  55000.0\n",
      "2            1076   Firrelli      Jeff   9273.0\n",
      "3            1088  Patterson   William   4871.0\n",
      "6            1165   Jennings    Leslie   2291.0\n",
      "7            1166   Thompson    Leslie   4065.0\n",
      "8            1188   Firrelli     Julie   2173.0\n"
     ]
    }
   ],
   "source": [
    "print(data.dropna())"
   ]
  },
  {
   "cell_type": "code",
   "execution_count": 8,
   "metadata": {},
   "outputs": [
    {
     "name": "stdout",
     "output_type": "stream",
     "text": [
      "   employeeNumber   lastName firstName   salery\n",
      "0            1002     Murphy     Diane  50000.0\n",
      "1            1056  Patterson      Mary  55000.0\n",
      "2            1076   Firrelli      Jeff   9273.0\n",
      "3            1088  Patterson   William   4871.0\n",
      "4            1102     Bondur       NaN   4408.0\n",
      "5            1143        Bow   Anthony      NaN\n",
      "6            1165   Jennings    Leslie   2291.0\n",
      "7            1166   Thompson    Leslie   4065.0\n",
      "8            1188   Firrelli     Julie   2173.0\n"
     ]
    }
   ],
   "source": [
    "print(data)"
   ]
  },
  {
   "cell_type": "code",
   "execution_count": 21,
   "metadata": {},
   "outputs": [
    {
     "name": "stdout",
     "output_type": "stream",
     "text": [
      "   employeeNumber   lastName firstName   salery gender\n",
      "0            1002     Murphy     Diane  50000.0      f\n",
      "1            1056  Patterson      Mary  55000.0      f\n",
      "2            1076   Firrelli      Jeff   9273.0    NaN\n",
      "3            1088  Patterson   William   4871.0      m\n",
      "4            1102     Bondur       NaN   4408.0      m\n",
      "5            1143        Bow   Anthony      NaN    NaN\n",
      "6            1165   Jennings    Leslie   2291.0      f\n",
      "7            1166   Thompson    Leslie   4065.0      f\n",
      "8            1188   Firrelli     Julie   2173.0      f\n",
      "   employeeNumber   lastName firstName   salery gender\n",
      "0            1002     Murphy     Diane  50000.0      f\n",
      "1            1056  Patterson      Mary  55000.0      f\n",
      "2            1076   Firrelli      Jeff   9273.0  30000\n",
      "3            1088  Patterson   William   4871.0      m\n",
      "4            1102     Bondur     30000   4408.0      m\n",
      "5            1143        Bow   Anthony  30000.0  30000\n",
      "6            1165   Jennings    Leslie   2291.0      f\n",
      "7            1166   Thompson    Leslie   4065.0      f\n",
      "8            1188   Firrelli     Julie   2173.0      f\n"
     ]
    }
   ],
   "source": [
    "import pandas as pd\n",
    "data=pd.read_csv(\"employees.csv\")\n",
    "print(data)\n",
    "import numpy as np\n",
    "\n",
    "print(data.replace(np.nan,30000))"
   ]
  },
  {
   "cell_type": "code",
   "execution_count": 22,
   "metadata": {},
   "outputs": [
    {
     "name": "stdout",
     "output_type": "stream",
     "text": [
      "   employeeNumber   lastName firstName   salery gender\n",
      "0            1002     Murphy     Diane  50000.0      f\n",
      "1            1056  Patterson      Mary  55000.0      f\n",
      "2            1076   Firrelli      Jeff   9273.0    NaN\n",
      "3            1088  Patterson   William   4871.0      m\n",
      "4            1102     Bondur   William   4408.0      m\n",
      "5            1143        Bow   Anthony      NaN    NaN\n",
      "6            1165   Jennings    Leslie   2291.0      f\n",
      "7            1166   Thompson    Leslie   4065.0      f\n",
      "8            1188   Firrelli     Julie   2173.0      f\n"
     ]
    }
   ],
   "source": [
    "data[\"firstName\"]=data[\"firstName\"].replace((np.nan,\"john\"))\n",
    "print(data)"
   ]
  },
  {
   "cell_type": "code",
   "execution_count": 23,
   "metadata": {},
   "outputs": [
    {
     "name": "stdout",
     "output_type": "stream",
     "text": [
      "   employeeNumber   lastName firstName   salery gender\n",
      "0            1002     Murphy     Diane  50000.0      f\n",
      "1            1056  Patterson      Mary  55000.0      f\n",
      "2            1076   Firrelli      Jeff   9273.0    NaN\n",
      "3            1088  Patterson   William   4871.0      m\n",
      "4            1102     Bondur   William   4408.0      m\n",
      "5            1143        Bow   Anthony   4408.0    NaN\n",
      "6            1165   Jennings    Leslie   2291.0      f\n",
      "7            1166   Thompson    Leslie   4065.0      f\n",
      "8            1188   Firrelli     Julie   2173.0      f\n",
      "<bound method NDFrame._add_numeric_operations.<locals>.mean of 0    50000.0\n",
      "1    55000.0\n",
      "2     9273.0\n",
      "3     4871.0\n",
      "4     4408.0\n",
      "5     4408.0\n",
      "6     2291.0\n",
      "7     4065.0\n",
      "8     2173.0\n",
      "Name: salery, dtype: float64>\n"
     ]
    }
   ],
   "source": [
    "data[\"salery\"]=data[\"salery\"].replace((np.nan,40000))\n",
    "print(data)\n",
    "print(data[\"salery\"].mean)"
   ]
  },
  {
   "cell_type": "code",
   "execution_count": 24,
   "metadata": {},
   "outputs": [
    {
     "name": "stdout",
     "output_type": "stream",
     "text": [
      "<bound method NDFrame._add_numeric_operations.<locals>.mean of 0    50000.0\n",
      "1    55000.0\n",
      "2     9273.0\n",
      "3     4871.0\n",
      "4     4408.0\n",
      "5     4408.0\n",
      "6     2291.0\n",
      "7     4065.0\n",
      "8     2173.0\n",
      "Name: salery, dtype: float64>\n"
     ]
    }
   ],
   "source": [
    "print(data[\"salery\"].mean)"
   ]
  },
  {
   "cell_type": "code",
   "execution_count": null,
   "metadata": {},
   "outputs": [],
   "source": []
  },
  {
   "cell_type": "code",
   "execution_count": 25,
   "metadata": {},
   "outputs": [
    {
     "name": "stdout",
     "output_type": "stream",
     "text": [
      "   employeeNumber   lastName firstName   salery gender\n",
      "0            1002     Murphy     Diane  50000.0      f\n",
      "1            1056  Patterson      Mary  55000.0      f\n",
      "2            1076   Firrelli      Jeff   9273.0    NaN\n",
      "3            1088  Patterson   William   4871.0      m\n",
      "4            1102     Bondur   William   4408.0      m\n",
      "5            1143        Bow   Anthony   4408.0    NaN\n",
      "6            1165   Jennings    Leslie   2291.0      f\n",
      "7            1166   Thompson    Leslie   4065.0      f\n",
      "8            1188   Firrelli     Julie   2173.0      f\n"
     ]
    }
   ],
   "source": [
    "print(data)"
   ]
  },
  {
   "cell_type": "code",
   "execution_count": 26,
   "metadata": {},
   "outputs": [
    {
     "name": "stdout",
     "output_type": "stream",
     "text": [
      "   employeeNumber   lastName firstName   salery gender\n",
      "0            1002     Murphy     Diane  50000.0      f\n",
      "1            1056  Patterson      Mary  55000.0      f\n",
      "2            1076   Firrelli      Jeff   9273.0      m\n",
      "3            1088  Patterson   William   4871.0      m\n",
      "4            1102     Bondur   William   4408.0      m\n",
      "5            1143        Bow   Anthony   4408.0      f\n",
      "6            1165   Jennings    Leslie   2291.0      f\n",
      "7            1166   Thompson    Leslie   4065.0      f\n",
      "8            1188   Firrelli     Julie   2173.0      f\n"
     ]
    }
   ],
   "source": [
    "print(data.fillna(method=\"bfill\"))"
   ]
  },
  {
   "cell_type": "code",
   "execution_count": 29,
   "metadata": {},
   "outputs": [
    {
     "name": "stdout",
     "output_type": "stream",
     "text": [
      "   employeeNumber   lastName firstName   salery gender\n",
      "0            1002     Murphy     Diane  50000.0      f\n",
      "1            1056  Patterson      Mary  55000.0      f\n",
      "2            1076   Firrelli      Jeff   9273.0      f\n",
      "3            1088  Patterson   William   4871.0      m\n",
      "4            1102     Bondur   William   4408.0      m\n",
      "5            1143        Bow   Anthony   4408.0      m\n",
      "6            1165   Jennings    Leslie   2291.0      f\n",
      "7            1166   Thompson    Leslie   4065.0      f\n",
      "8            1188   Firrelli     Julie   2173.0      f\n"
     ]
    }
   ],
   "source": [
    "print(data.fillna(method=\"ffill\"))"
   ]
  },
  {
   "cell_type": "code",
   "execution_count": 28,
   "metadata": {},
   "outputs": [
    {
     "name": "stdout",
     "output_type": "stream",
     "text": [
      "   employeeNumber   lastName firstName   salery gender\n",
      "0            1002     Murphy     Diane  50000.0      f\n",
      "1            1056  Patterson      Mary  55000.0      f\n",
      "2            1076   Firrelli      Jeff   9273.0     hi\n",
      "3            1088  Patterson   William   4871.0      m\n",
      "4            1102     Bondur   William   4408.0      m\n",
      "5            1143        Bow   Anthony   4408.0     hi\n",
      "6            1165   Jennings    Leslie   2291.0      f\n",
      "7            1166   Thompson    Leslie   4065.0      f\n",
      "8            1188   Firrelli     Julie   2173.0      f\n"
     ]
    }
   ],
   "source": [
    "print(data.fillna(\"hi\"))"
   ]
  }
 ],
 "metadata": {
  "kernelspec": {
   "display_name": "Python 3",
   "language": "python",
   "name": "python3"
  },
  "language_info": {
   "codemirror_mode": {
    "name": "ipython",
    "version": 3
   },
   "file_extension": ".py",
   "mimetype": "text/x-python",
   "name": "python",
   "nbconvert_exporter": "python",
   "pygments_lexer": "ipython3",
   "version": "3.11.6"
  }
 },
 "nbformat": 4,
 "nbformat_minor": 2
}
