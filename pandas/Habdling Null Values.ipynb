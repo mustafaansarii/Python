{
 "cells": [
  {
   "cell_type": "code",
   "execution_count": 47,
   "metadata": {},
   "outputs": [
    {
     "name": "stdout",
     "output_type": "stream",
     "text": [
      "   employeeNumber   lastName firstName   salery\n",
      "0            1002     Murphy     Diane  50000.0\n",
      "1            1056  Patterson      Mary  55000.0\n",
      "2            1076   Firrelli      Jeff   9273.0\n",
      "3            1088  Patterson   William   4871.0\n",
      "4            1102     Bondur    Gerard   4408.0\n",
      "5            1143        Bow   Anthony      NaN\n",
      "6            1165   Jennings    Leslie   2291.0\n",
      "7            1166   Thompson    Leslie   4065.0\n",
      "8            1188   Firrelli     Julie   2173.0\n"
     ]
    }
   ],
   "source": [
    "import pandas as pd\n",
    "data=pd.read_csv(\"employees.csv\")\n",
    "print(data)"
   ]
  },
  {
   "cell_type": "code",
   "execution_count": 27,
   "metadata": {},
   "outputs": [
    {
     "name": "stdout",
     "output_type": "stream",
     "text": [
      "   employeeNumber  lastName  firstName  salery\n",
      "0           False     False      False   False\n",
      "1           False     False      False   False\n",
      "2           False     False      False   False\n",
      "3           False     False      False   False\n",
      "4           False     False      False   False\n",
      "5           False     False      False    True\n",
      "6           False     False      False   False\n",
      "7           False     False      False   False\n",
      "8           False     False      False   False\n"
     ]
    }
   ],
   "source": [
    "print(data.isnull())"
   ]
  },
  {
   "cell_type": "code",
   "execution_count": 28,
   "metadata": {},
   "outputs": [
    {
     "name": "stdout",
     "output_type": "stream",
     "text": [
      "employeeNumber    0\n",
      "lastName          0\n",
      "firstName         0\n",
      "salery            1\n",
      "dtype: int64\n"
     ]
    }
   ],
   "source": [
    "print(data.isnull().sum())"
   ]
  },
  {
   "cell_type": "code",
   "execution_count": 29,
   "metadata": {},
   "outputs": [
    {
     "name": "stdout",
     "output_type": "stream",
     "text": [
      "   employeeNumber   lastName firstName   salery\n",
      "0            1002     Murphy     Diane  50000.0\n",
      "1            1056  Patterson      Mary  55000.0\n",
      "2            1076   Firrelli      Jeff   9273.0\n",
      "3            1088  Patterson   William   4871.0\n",
      "4            1102     Bondur    Gerard   4408.0\n",
      "6            1165   Jennings    Leslie   2291.0\n",
      "7            1166   Thompson    Leslie   4065.0\n",
      "8            1188   Firrelli     Julie   2173.0\n"
     ]
    }
   ],
   "source": [
    "print(data.dropna())"
   ]
  },
  {
   "cell_type": "code",
   "execution_count": 30,
   "metadata": {},
   "outputs": [
    {
     "name": "stdout",
     "output_type": "stream",
     "text": [
      "   employeeNumber   lastName firstName   salery\n",
      "0            1002     Murphy     Diane  50000.0\n",
      "1            1056  Patterson      Mary  55000.0\n",
      "2            1076   Firrelli      Jeff   9273.0\n",
      "3            1088  Patterson   William   4871.0\n",
      "4            1102     Bondur    Gerard   4408.0\n",
      "5            1143        Bow   Anthony      NaN\n",
      "6            1165   Jennings    Leslie   2291.0\n",
      "7            1166   Thompson    Leslie   4065.0\n",
      "8            1188   Firrelli     Julie   2173.0\n"
     ]
    }
   ],
   "source": [
    "print(data)"
   ]
  },
  {
   "cell_type": "code",
   "execution_count": 44,
   "metadata": {},
   "outputs": [
    {
     "name": "stdout",
     "output_type": "stream",
     "text": [
      "   employeeNumber   lastName firstName   salery\n",
      "0            1002     Murphy     Diane  50000.0\n",
      "1            1056  Patterson      Mary  55000.0\n",
      "2            1076   Firrelli      Jeff   9273.0\n",
      "3            1088  Patterson   William   4871.0\n",
      "4            1102     Bondur    Gerard   4408.0\n",
      "5            1143        Bow   Anthony  30000.0\n",
      "6            1165   Jennings    Leslie   2291.0\n",
      "7            1166   Thompson    Leslie   4065.0\n",
      "8            1188   Firrelli     Julie   2173.0\n"
     ]
    }
   ],
   "source": [
    "\n",
    "import numpy as np\n",
    "\n",
    "print(data.replace(np.nan,30000))"
   ]
  }
 ],
 "metadata": {
  "kernelspec": {
   "display_name": "Python 3",
   "language": "python",
   "name": "python3"
  },
  "language_info": {
   "codemirror_mode": {
    "name": "ipython",
    "version": 3
   },
   "file_extension": ".py",
   "mimetype": "text/x-python",
   "name": "python",
   "nbconvert_exporter": "python",
   "pygments_lexer": "ipython3",
   "version": "3.11.6"
  }
 },
 "nbformat": 4,
 "nbformat_minor": 2
}
