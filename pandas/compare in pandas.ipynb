{
 "cells": [
  {
   "cell_type": "code",
   "execution_count": 32,
   "metadata": {},
   "outputs": [
    {
     "name": "stdout",
     "output_type": "stream",
     "text": [
      "df1:\n",
      "   fruits  price  quality\n",
      "0   mango     50       34\n",
      "1   apple    200       54\n",
      "2  orange     50       32\n",
      "3  papaya    100       26\n"
     ]
    }
   ],
   "source": [
    "import pandas as pd\n",
    "\n",
    "data1 = {\"fruits\": [\"mango\", \"apple\", \"orange\", \"papaya\"],\n",
    "         \"price\": [50, 200, 50, 100],\n",
    "         \"quality\": [34, 54, 32, 26]}\n",
    "\n",
    "df1 = pd.DataFrame(data1)\n",
    "print(\"df1:\")\n",
    "print(df1)"
   ]
  },
  {
   "cell_type": "code",
   "execution_count": 35,
   "metadata": {},
   "outputs": [
    {
     "name": "stdout",
     "output_type": "stream",
     "text": [
      "\n",
      "df2:\n",
      "   fruits  price  quality\n",
      "0   mango    200       34\n",
      "1   apple    500      200\n",
      "2  orange    600       32\n",
      "3  papaya    700      500\n"
     ]
    }
   ],
   "source": [
    "df2 = df1.copy()\n",
    "df2.loc[0, \"price\"] = 200\n",
    "df2.loc[1, \"price\"] = 500\n",
    "df2.loc[2, \"price\"] = 600\n",
    "df2.loc[3, \"price\"] = 700\n",
    "df2.loc[1, \"quality\"] = 200\n",
    "df2.loc[3, \"quality\"] = 500  \n",
    "print(\"\\ndf2:\")\n",
    "print(df2)"
   ]
  },
  {
   "cell_type": "code",
   "execution_count": 36,
   "metadata": {},
   "outputs": [
    {
     "name": "stdout",
     "output_type": "stream",
     "text": [
      "\n",
      "Comparison result:\n",
      "  price       quality       \n",
      "   self other    self  other\n",
      "0    50   200     NaN    NaN\n",
      "1   200   500    54.0  200.0\n",
      "2    50   600     NaN    NaN\n",
      "3   100   700    26.0  500.0\n"
     ]
    }
   ],
   "source": [
    "# Compare the two dataframes\n",
    "print(\"\\nComparison result:\")\n",
    "print(df1.compare(df2))"
   ]
  },
  {
   "cell_type": "code",
   "execution_count": 40,
   "metadata": {},
   "outputs": [
    {
     "name": "stdout",
     "output_type": "stream",
     "text": [
      "         price  quality\n",
      "0 self      50      NaN\n",
      "  other    200      NaN\n",
      "1 self     200     54.0\n",
      "  other    500    200.0\n",
      "2 self      50      NaN\n",
      "  other    600      NaN\n",
      "3 self     100     26.0\n",
      "  other    700    500.0\n"
     ]
    }
   ],
   "source": [
    "\n",
    "print(df1.compare(df2,align_axis=0))"
   ]
  },
  {
   "cell_type": "code",
   "execution_count": 41,
   "metadata": {},
   "outputs": [
    {
     "name": "stdout",
     "output_type": "stream",
     "text": [
      "  price       quality       \n",
      "   self other    self  other\n",
      "0    50   200     NaN    NaN\n",
      "1   200   500    54.0  200.0\n",
      "2    50   600     NaN    NaN\n",
      "3   100   700    26.0  500.0\n",
      "  fruits       price       quality       \n",
      "    self other  self other    self  other\n",
      "0    NaN   NaN    50   200     NaN    NaN\n",
      "1    NaN   NaN   200   500    54.0  200.0\n",
      "2    NaN   NaN    50   600     NaN    NaN\n",
      "3    NaN   NaN   100   700    26.0  500.0\n"
     ]
    }
   ],
   "source": [
    "print(df1.compare(df2))\n",
    "print(df1.compare(df2,keep_shape=True))"
   ]
  },
  {
   "cell_type": "code",
   "execution_count": 42,
   "metadata": {},
   "outputs": [
    {
     "name": "stdout",
     "output_type": "stream",
     "text": [
      "  price       quality       \n",
      "   self other    self  other\n",
      "0    50   200     NaN    NaN\n",
      "1   200   500    54.0  200.0\n",
      "2    50   600     NaN    NaN\n",
      "3   100   700    26.0  500.0\n",
      "  price       quality       \n",
      "   self other    self  other\n",
      "0    50   200     NaN    NaN\n",
      "1   200   500    54.0  200.0\n",
      "2    50   600     NaN    NaN\n",
      "3   100   700    26.0  500.0\n"
     ]
    }
   ],
   "source": [
    "print(df1.compare(df2))\n",
    "print(df1.compare(df2,keep_shape=False))"
   ]
  }
 ],
 "metadata": {
  "kernelspec": {
   "display_name": "Python 3",
   "language": "python",
   "name": "python3"
  },
  "language_info": {
   "codemirror_mode": {
    "name": "ipython",
    "version": 3
   },
   "file_extension": ".py",
   "mimetype": "text/x-python",
   "name": "python",
   "nbconvert_exporter": "python",
   "pygments_lexer": "ipython3",
   "version": "3.11.6"
  }
 },
 "nbformat": 4,
 "nbformat_minor": 2
}
