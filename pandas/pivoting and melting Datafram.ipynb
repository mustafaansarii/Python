{
 "cells": [
  {
   "cell_type": "code",
   "execution_count": 15,
   "metadata": {},
   "outputs": [
    {
     "name": "stdout",
     "output_type": "stream",
     "text": [
      "  keys   name   house  grade\n",
      "0   k1   john     red      1\n",
      "1   k2  harry   green      2\n",
      "2   k1  mohan    blue      3\n",
      "3   k2  sohan  yellow      4\n",
      "name  harry john mohan   sohan\n",
      "keys                          \n",
      "k1      NaN  red  blue     NaN\n",
      "k2    green  NaN   NaN  yellow\n"
     ]
    },
    {
     "name": "stderr",
     "output_type": "stream",
     "text": [
      "/tmp/ipykernel_9687/1778224437.py:8: FutureWarning: In a future version of pandas all arguments of DataFrame.pivot will be keyword-only.\n",
      "  print(df.pivot(\"keys\",\"name\",\"house\"))\n"
     ]
    }
   ],
   "source": [
    "import pandas as pd\n",
    "dict={\"keys\":[\"k1\",\"k2\",\"k1\",\"k2\"],\n",
    "      \"name\":[\"john\",\"harry\",\"mohan\",\"sohan\"],\n",
    "      \"house\":[\"red\",\"green\",\"blue\",\"yellow\"],\n",
    "      \"grade\":[1,2,3,4]}\n",
    "df=pd.DataFrame(dict)\n",
    "print(df)\n",
    "print(df.pivot(\"keys\",\"name\",\"house\"))\n"
   ]
  },
  {
   "cell_type": "code",
   "execution_count": 16,
   "metadata": {},
   "outputs": [
    {
     "name": "stdout",
     "output_type": "stream",
     "text": [
      "      house                    grade                 \n",
      "name  harry john mohan   sohan harry john mohan sohan\n",
      "keys                                                 \n",
      "k1      NaN  red  blue     NaN   NaN    1     3   NaN\n",
      "k2    green  NaN   NaN  yellow     2  NaN   NaN     4\n"
     ]
    }
   ],
   "source": [
    "print(df.pivot(index=\"keys\", columns=\"name\",values=[\"house\",\"grade\"]))"
   ]
  },
  {
   "cell_type": "code",
   "execution_count": 17,
   "metadata": {},
   "outputs": [],
   "source": [
    "deta={\n",
    "      \"name\":[\"john\",\"harry\",\"mohan\",\"sohan\"],\n",
    "      \"gender\":[\"m\",\"f\",\"m\",\"m\"],\n",
    "      \"Age\":[31,32,23,34]}"
   ]
  },
  {
   "cell_type": "code",
   "execution_count": 18,
   "metadata": {},
   "outputs": [
    {
     "name": "stdout",
     "output_type": "stream",
     "text": [
      "    name gender  Age\n",
      "0   john      m   31\n",
      "1  harry      f   32\n",
      "2  mohan      m   23\n",
      "3  sohan      m   34\n"
     ]
    }
   ],
   "source": [
    "df=pd.DataFrame(deta)\n",
    "print(df)"
   ]
  },
  {
   "cell_type": "code",
   "execution_count": 19,
   "metadata": {},
   "outputs": [
    {
     "name": "stdout",
     "output_type": "stream",
     "text": [
      "    name variable value\n",
      "0   john   gender     m\n",
      "1  harry   gender     f\n",
      "2  mohan   gender     m\n",
      "3  sohan   gender     m\n",
      "4   john      Age    31\n",
      "5  harry      Age    32\n",
      "6  mohan      Age    23\n",
      "7  sohan      Age    34\n"
     ]
    }
   ],
   "source": [
    "print(pd.melt(df,id_vars=[\"name\"],value_vars=[\"gender\",\"Age\"]))"
   ]
  },
  {
   "cell_type": "code",
   "execution_count": 20,
   "metadata": {},
   "outputs": [
    {
     "name": "stdout",
     "output_type": "stream",
     "text": [
      "    name name&Age value\n",
      "0   john   gender     m\n",
      "1  harry   gender     f\n",
      "2  mohan   gender     m\n",
      "3  sohan   gender     m\n",
      "4   john      Age    31\n",
      "5  harry      Age    32\n",
      "6  mohan      Age    23\n",
      "7  sohan      Age    34\n"
     ]
    }
   ],
   "source": [
    "print(pd.melt(df,id_vars=[\"name\"],value_vars=[\"gender\",\"Age\"],var_name=\"name&Age\"))"
   ]
  }
 ],
 "metadata": {
  "kernelspec": {
   "display_name": "Python 3",
   "language": "python",
   "name": "python3"
  },
  "language_info": {
   "codemirror_mode": {
    "name": "ipython",
    "version": 3
   },
   "file_extension": ".py",
   "mimetype": "text/x-python",
   "name": "python",
   "nbconvert_exporter": "python",
   "pygments_lexer": "ipython3",
   "version": "3.11.6"
  }
 },
 "nbformat": 4,
 "nbformat_minor": 2
}
